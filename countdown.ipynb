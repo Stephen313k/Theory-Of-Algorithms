{
 "cells": [
  {
   "cell_type": "markdown",
   "id": "4fb2b4e8-c991-4e45-b5cc-79b06fdcb87f",
   "metadata": {},
   "source": [
    "# Countdown Numbers Game"
   ]
  },
  {
   "cell_type": "markdown",
   "id": "ba0f0588-f88a-44a0-8a20-36c5cd2ca025",
   "metadata": {},
   "source": [
    "## Overview"
   ]
  },
  {
   "cell_type": "markdown",
   "id": "62cbd28a-28e7-4214-8d63-c7bdace1bca8",
   "metadata": {},
   "source": [
    "#### The concept"
   ]
  },
  {
   "cell_type": "markdown",
   "id": "62e7374c-6957-4997-b863-215b6e647356",
   "metadata": {},
   "source": [
    "Countdown numbers is a game show where contestants have to work out a sequence of calculations. They are given a target number at the start to aim for, they are also given 6 numbers to manipulate with mathematical operations to reach the target number."
   ]
  },
  {
   "cell_type": "markdown",
   "id": "bf9f40e5-0b1b-4127-9186-ea7df5d97c22",
   "metadata": {},
   "source": [
    "#### Explanation"
   ]
  },
  {
   "cell_type": "markdown",
   "id": "c147fe58-ddfb-434e-80ca-b7c907044720",
   "metadata": {},
   "source": [
    "The contestants only have 30 seconds to work out the calculation. The game presents 24 cards. 20 of these cards range from 1 to 10, and a duplicate of each instance (1,1,2,2,3,3,4,4,5,5,6,6,7,7,8,8,9,9,10,10). The remaining four cards contain large numbers 25, 50, 75, and 100. The target number to aim for is randomly generated from 101 to 909. The players pick their 6 numbers before the target number is show. By manipulating their 6 numbers with basic arithmetic operations +, -, × , ÷ (negative integers or fractions are not allowed). The player can only use each card once, but does not have to utilize all of their cards. The goal is to reach closest to the target number as possible (The closest player wins). Most commonly one or two large numbers are picked for the bulk of the operation, and the other small numbers are used for fine tuning. The players are allowed to use all of their numbers, however they cannot use the same card/number twice."
   ]
  },
  {
   "cell_type": "markdown",
   "id": "4f7e75d6-0901-41ad-98b7-ddf69ce0ef8e",
   "metadata": {},
   "source": [
    "#### Rules"
   ]
  },
  {
   "cell_type": "markdown",
   "id": "df692b37-9b01-41de-8c66-071e12cf8c91",
   "metadata": {},
   "source": [
    "\n",
    "<ol>\n",
    "  <li>Positive integers only</li>\n",
    "  <li>Basic arithmetic only<li>\n",
    "    <ul>\n",
    "          <li>Addition</li>\n",
    "          <li>Mulitplication</li>\n",
    "          <li>Subtracion</li>\n",
    "          <li>Division</li>\n",
    "    </ul>\n",
    "  <li>Don't have to use all of your cards</li>\n",
    "  <li>Closest player to target score wins</li>\n",
    "</ol> \n"
   ]
  },
  {
   "cell_type": "markdown",
   "id": "663b305e-1bfa-468d-a340-184a9f89b38e",
   "metadata": {},
   "source": [
    "#### Example"
   ]
  },
  {
   "cell_type": "markdown",
   "id": "b6d50761-d56c-4147-8864-36c66977dcab",
   "metadata": {},
   "source": [
    "<strong>TARGET: 884 </strong> <br>\n",
    "CARDS: |<strong> 100 </strong>|<strong> 1 </strong>|<strong> 7 </strong>|<strong> 9 </strong>|<strong> 6 </strong>|<strong> 7 </strong>|<br>\n",
    "\n",
    "Answer: <br>\n",
    "        <strong> 100 </strong> - <strong> 1 </strong> = 99 <br>\n",
    "        99 x <strong> 9 </strong> = 891 <br>\n",
    "        891 - <strong> 7 </strong> = 884 <br>\n",
    "        ____________<br>\n",
    "        equals: <strong>884</strong> <br>\n",
    " \n",
    "As seen above five of the six numbers are used to achieve the target number with basic operations <br>\n",
    "            "
   ]
  },
  {
   "cell_type": "markdown",
   "id": "c91e43c9-4d7e-45de-b16f-064204575f87",
   "metadata": {},
   "source": [
    "## Complexity "
   ]
  },
  {
   "cell_type": "markdown",
   "id": "c6c46f19-765c-4fff-9d75-a429093c653e",
   "metadata": {},
   "source": [
    "Infrix expressions are readable and solvable by humans. You can distinguish the order of operators, and use parenthesis to solve mathemtatical expressions.\n",
    "Computers cannot distinguish between different operators and paraenthesis. Posfix conversion is essential. To solve this issue."
   ]
  },
  {
   "cell_type": "code",
   "execution_count": 34,
   "id": "7dd7effa-06a8-43ce-b3e1-f15587009681",
   "metadata": {},
   "outputs": [],
   "source": [
    "#infix expression into postfix expression.\n",
    "def expression(rpn):\n",
    "    #create a stack\n",
    "    stack = []\n",
    "    #loop through \n",
    "    for i in rpn:\n",
    "        #number must be an integer\n",
    "        if isinstance(i, int):\n",
    "            #append\n",
    "            stack = stack + [1]\n",
    "        else:\n",
    "            #pop it twice\n",
    "            right = stack[-1]\n",
    "            stack = stack[:-1]\n",
    "            left = stack[-1]\n",
    "            stack = stack[:-1]\n",
    "            #apply to stack element\n",
    "            stack = stack + [i(left, right)]\n",
    "    #return first item in array\n",
    "    return stack[0]     "
   ]
  },
  {
   "cell_type": "markdown",
   "id": "08b58051-da41-4929-843e-59df52d96f3b",
   "metadata": {},
   "source": [
    "### Generating a Countdown numbers game"
   ]
  },
  {
   "cell_type": "markdown",
   "id": "1500f368-6ac6-487d-8e3d-d2ee1570e2cd",
   "metadata": {},
   "source": [
    "#### Generate players numbers randomly"
   ]
  },
  {
   "cell_type": "code",
   "execution_count": 35,
   "id": "78728881-e354-4cd6-839b-a5e5ef9beb8f",
   "metadata": {},
   "outputs": [],
   "source": [
    "#library for random numbers\n",
    "import random\n",
    "import itertools as it"
   ]
  },
  {
   "cell_type": "code",
   "execution_count": 36,
   "id": "7b7cf72f-bdec-4a1a-94d9-a20bd4eb6a3a",
   "metadata": {},
   "outputs": [],
   "source": [
    "#method to generate the players number for the game\n",
    "def game_numbers(numbers=None):\n",
    "    if numbers is None:\n",
    "        #set numbers to random range values, between 0-5\n",
    "        numbers = random.randrange(0,5)\n",
    "        \n",
    "        #generate random large numbers 25, 50, 75, 100\n",
    "        large_num = random.sample([25, 50, 75, 100], numbers)\n",
    "        #generate random small numbers 0-10\n",
    "        small_num = random.sample(list(range(1, 11)) * 2, 6 - numbers)\n",
    "        #concat the numbers\n",
    "        players_numbers = large_num + small_num\n",
    "        \n",
    "    #generate random target number from (101 to 1000)\n",
    "    target_number = random.randrange(101, 1000)\n",
    "\n",
    "    #return the player numbers and target numbers\n",
    "    return players_numbers, target_number"
   ]
  },
  {
   "cell_type": "code",
   "execution_count": 37,
   "id": "1dff3802-c985-44e8-a848-a127f9d02554",
   "metadata": {},
   "outputs": [
    {
     "data": {
      "text/plain": [
       "([100, 75, 1, 4, 7, 8], 981)"
      ]
     },
     "execution_count": 37,
     "metadata": {},
     "output_type": "execute_result"
    }
   ],
   "source": [
    "#use what we implemented above\n",
    "players_numbers, target_number = game_numbers()\n",
    "#return the players numbers and target number\n",
    "players_numbers, target_number"
   ]
  },
  {
   "cell_type": "code",
   "execution_count": 38,
   "id": "d33b58b3-f412-4f21-9374-173906256ff7",
   "metadata": {},
   "outputs": [
    {
     "data": {
      "text/plain": [
       "([50, 9, 3, 10, 2, 1], 577)"
      ]
     },
     "execution_count": 38,
     "metadata": {},
     "output_type": "execute_result"
    }
   ],
   "source": [
    "#test again to see numbers are randomly generated\n",
    "players_numbers, target_number = game_numbers()\n",
    "players_numbers, target_number"
   ]
  },
  {
   "cell_type": "code",
   "execution_count": null,
   "id": "ab59a851-256f-446b-b9c1-eba3e9c7df71",
   "metadata": {},
   "outputs": [],
   "source": []
  },
  {
   "cell_type": "markdown",
   "id": "f5006811-d08f-4e63-b90d-f84a8fcb8236",
   "metadata": {},
   "source": [
    "## Solutions "
   ]
  },
  {
   "cell_type": "markdown",
   "id": "c5ffd0e4-071b-4d53-8146-df3180612979",
   "metadata": {},
   "source": [
    "##### Experimenting a solution, with true or false "
   ]
  },
  {
   "cell_type": "code",
   "execution_count": 39,
   "id": "878ac839-c20f-4f02-a9df-aa1a3d8c4521",
   "metadata": {},
   "outputs": [],
   "source": [
    "import operator\n",
    "#operators used in the game \n",
    "operators = [operator.add, operator.mul, operator.sub, operator.add, operator.add]"
   ]
  },
  {
   "cell_type": "code",
   "execution_count": 40,
   "id": "368a23a7-5400-4aa3-a794-8227f3281992",
   "metadata": {},
   "outputs": [],
   "source": [
    "# two partitions in the lists, is not null\n",
    "def patterns(players_numbers, operators):\n",
    "  # partition through the list\n",
    "  if len(players_numbers) == 1:\n",
    "    yield players_numbers\n",
    "  # Loop through the partition, players numbers.\n",
    "  for i in range(1, len(players_numbers)):\n",
    "    # python indexing, flexible tool to build new lists out of an existing list\n",
    "    for left, right in it.product(patterns(players_numbers[:i], operators[1:i]), patterns(players_numbers[i:], operators[i:])):\n",
    "      # the operator is applied to the sublist and repeat.\n",
    "      yield [*left, *right, operators[0]]"
   ]
  },
  {
   "cell_type": "code",
   "execution_count": 41,
   "id": "68964447-ae2f-439f-97bd-aa8d95f751fd",
   "metadata": {},
   "outputs": [],
   "source": [
    "def test_solution(players_numbers, operators, target_number):\n",
    "    for i in patterns(players_numbers, operators):\n",
    "        temp = 0\n",
    "        if target_number - temp > target_number - expression(i):\n",
    "            temp = expression(i)\n",
    "\n",
    "        if expression(i) == target_number:\n",
    "            return expression(i), True\n",
    "      \n",
    "    return temp, False"
   ]
  },
  {
   "cell_type": "code",
   "execution_count": 42,
   "id": "8300dcff-0ee3-4d02-be0b-36e0ff91a0a3",
   "metadata": {},
   "outputs": [
    {
     "data": {
      "text/plain": [
       "(3, False)"
      ]
     },
     "execution_count": 42,
     "metadata": {},
     "output_type": "execute_result"
    }
   ],
   "source": [
    "test_solution(players_numbers, operators, target_number)"
   ]
  },
  {
   "cell_type": "code",
   "execution_count": 43,
   "id": "08c3c888-f3b0-42f1-baa5-63c1af829d36",
   "metadata": {},
   "outputs": [
    {
     "name": "stdout",
     "output_type": "stream",
     "text": [
      "Players Number: [50, 9, 3, 10, 2, 1]\n",
      "Target Number: 577\n"
     ]
    },
    {
     "data": {
      "text/plain": [
       "(3, False)"
      ]
     },
     "execution_count": 43,
     "metadata": {},
     "output_type": "execute_result"
    }
   ],
   "source": [
    "print(\"Players Number: {}\".format(players_numbers))\n",
    "print(\"Target Number: {}\".format(target_number))\n",
    "test_solution(players_numbers, operators, target_number)\n"
   ]
  },
  {
   "cell_type": "markdown",
   "id": "efe02a13-8e22-451a-a1a0-d7a4f3c25cd6",
   "metadata": {},
   "source": [
    "#### Below is the final solution and arithmetic output for the numbers game"
   ]
  },
  {
   "cell_type": "code",
   "execution_count": 45,
   "id": "6d8cc3bd-2e62-4c6c-ac35-c133e065799d",
   "metadata": {},
   "outputs": [],
   "source": [
    "# Operators allowed in game\n",
    "add = lambda x,y: x+y\n",
    "sub = lambda x,y: x-y\n",
    "mul = lambda x,y: x*y\n",
    "div = lambda x,y: x/y if x % y == 0 else 0/0\n",
    "\n",
    "operators = [ (add, '+'), (sub, '-'), (mul, '*'), (div, '/')]"
   ]
  },
  {
   "cell_type": "code",
   "execution_count": 52,
   "id": "38def3f7-3776-47c7-9519-a28d8cbd3168",
   "metadata": {},
   "outputs": [],
   "source": [
    "#infix expression into postfix expression.\n",
    "def rpn(rpn):\n",
    "    try:\n",
    "        #create stack\n",
    "        stack = 0\n",
    "        #use the add operator, order of operations\n",
    "        operator = add\n",
    "        \n",
    "        # Loop through entirely\n",
    "        for i in rpn:\n",
    "            # is it an integer?\n",
    "            if isinstance(i, int):\n",
    "                # adds to the stack\n",
    "                stack = operator(stack, i)\n",
    "            else:\n",
    "                # return the integer\n",
    "                operator = i[0]\n",
    "        \n",
    "        # return the stack\n",
    "        return stack\n",
    "    except:\n",
    "        return 0\n"
   ]
  },
  {
   "cell_type": "code",
   "execution_count": 53,
   "id": "9b2e4a4c-9ded-40ba-a35e-a57793c8f07c",
   "metadata": {},
   "outputs": [],
   "source": [
    "def string_stack(stack):\n",
    "    # Create a string array of all items in the stack.\n",
    "    stackString = [str(i) if type(i) is int else i[1] for i in stack]\n",
    "    # Concatenate these items to a string and return it to be printed.\n",
    "    return ' '.join(stackString)"
   ]
  },
  {
   "cell_type": "code",
   "execution_count": 54,
   "id": "631b0fcc-b915-489f-bd5e-3028a6221d35",
   "metadata": {},
   "outputs": [],
   "source": [
    "# Solving the countdown numbers game with output\n",
    "def GameSolution(players_numbers, target_number):\n",
    "    \n",
    "    # Give all 2-partitions of a list, where each sublist has one element.\n",
    "    def iterative(stack, players_numbers):\n",
    "        # Loop through all the ways to partition L into two non-empty sublists\n",
    "        for r in range(len(players_numbers)):\n",
    "            # Append to the stack.\n",
    "            stack.append( players_numbers[r] )\n",
    "            extra = players_numbers[:r] + players_numbers[r+1:]\n",
    "\n",
    "            if rpn(stack) == target_number:\n",
    "                print(string_stack(stack))\n",
    "\n",
    "            if len(extra) > 0:\n",
    "                for s in operators:\n",
    "                    stack.append(s)\n",
    "                    stack = iterative(stack, extra)\n",
    "                    stack = stack[:-1]\n",
    "            stack = stack[:-1]\n",
    "            \n",
    "        return stack\n",
    "    \n",
    "    iterative([], players_numbers)"
   ]
  },
  {
   "cell_type": "code",
   "execution_count": 58,
   "id": "bf71af15-6e8e-4038-b276-3685515c69e8",
   "metadata": {},
   "outputs": [
    {
     "name": "stdout",
     "output_type": "stream",
     "text": [
      "Players Numbers: [50, 9, 3, 10, 2, 1]\n",
      "Target: 577\n",
      "50 + 9 + 1 - 2 * 10 - 3\n",
      "50 + 9 - 2 + 1 * 10 - 3\n",
      "50 + 9 - 1 * 10 - 3\n",
      "50 + 1 + 9 - 2 * 10 - 3\n",
      "50 + 1 - 2 + 9 * 10 - 3\n",
      "50 - 2 + 9 + 1 * 10 - 3\n",
      "50 - 2 + 1 + 9 * 10 - 3\n",
      "50 - 1 + 9 * 10 - 3\n",
      "9 + 50 + 1 - 2 * 10 - 3\n",
      "9 + 50 - 2 + 1 * 10 - 3\n",
      "9 + 50 - 1 * 10 - 3\n",
      "9 + 1 + 50 - 2 * 10 - 3\n",
      "9 + 1 - 2 + 50 * 10 - 3\n",
      "9 - 2 + 50 + 1 * 10 - 3\n",
      "9 - 2 + 1 + 50 * 10 - 3\n",
      "9 - 1 + 50 * 10 - 3\n",
      "10 - 3 * 2 + 50 * 9 + 1\n",
      "1 + 50 + 9 - 2 * 10 - 3\n",
      "1 + 50 - 2 + 9 * 10 - 3\n",
      "1 + 9 + 50 - 2 * 10 - 3\n",
      "1 + 9 - 2 + 50 * 10 - 3\n",
      "1 - 2 + 50 + 9 * 10 - 3\n",
      "1 - 2 + 9 + 50 * 10 - 3\n"
     ]
    }
   ],
   "source": [
    "\n",
    "\n",
    "print(\"Players Numbers: {}\".format(players_numbers))\n",
    "print(\"Target: {}\".format(target_number))\n",
    "\n",
    "GameSolution(players_numbers, target_number)\n"
   ]
  },
  {
   "cell_type": "markdown",
   "id": "3cd9c84d-aeb1-4a6b-90cb-2dbeeb1364ac",
   "metadata": {},
   "source": [
    "# End"
   ]
  },
  {
   "cell_type": "code",
   "execution_count": null,
   "id": "f09cb5af-1d05-4819-b4b2-3d51c7363a45",
   "metadata": {},
   "outputs": [],
   "source": []
  },
  {
   "cell_type": "code",
   "execution_count": null,
   "id": "2238e730-7fd4-4d45-8f5c-5a077e1fba88",
   "metadata": {},
   "outputs": [],
   "source": []
  },
  {
   "cell_type": "code",
   "execution_count": null,
   "id": "f9d384ac-e0cb-4beb-93b4-6df45ea8c9da",
   "metadata": {},
   "outputs": [],
   "source": []
  },
  {
   "cell_type": "code",
   "execution_count": null,
   "id": "5f3957d5-c121-4860-995c-7a98a25abd8b",
   "metadata": {},
   "outputs": [],
   "source": []
  },
  {
   "cell_type": "code",
   "execution_count": null,
   "id": "8a8553b3-1eee-49d8-a1c0-74d521b63dd1",
   "metadata": {},
   "outputs": [],
   "source": []
  },
  {
   "cell_type": "code",
   "execution_count": null,
   "id": "a391d8fc-5bcd-4d37-a076-7e102a7e8a91",
   "metadata": {},
   "outputs": [],
   "source": []
  }
 ],
 "metadata": {
  "kernelspec": {
   "display_name": "Python 3",
   "language": "python",
   "name": "python3"
  },
  "language_info": {
   "codemirror_mode": {
    "name": "ipython",
    "version": 3
   },
   "file_extension": ".py",
   "mimetype": "text/x-python",
   "name": "python",
   "nbconvert_exporter": "python",
   "pygments_lexer": "ipython3",
   "version": "3.8.8"
  }
 },
 "nbformat": 4,
 "nbformat_minor": 5
}

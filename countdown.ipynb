{
 "cells": [
  {
   "cell_type": "markdown",
   "id": "4fb2b4e8-c991-4e45-b5cc-79b06fdcb87f",
   "metadata": {},
   "source": [
    "# Countdown Numbers Game"
   ]
  },
  {
   "cell_type": "markdown",
   "id": "ba0f0588-f88a-44a0-8a20-36c5cd2ca025",
   "metadata": {},
   "source": [
    "## Overview"
   ]
  },
  {
   "cell_type": "markdown",
   "id": "62cbd28a-28e7-4214-8d63-c7bdace1bca8",
   "metadata": {},
   "source": [
    "#### The concept"
   ]
  },
  {
   "cell_type": "markdown",
   "id": "62e7374c-6957-4997-b863-215b6e647356",
   "metadata": {},
   "source": [
    "Countdown numbers is a game show where contestants have to work out a sequence of calculations. They are given a target number at the start to aim for, they are also given 6 numbers to manipulate with mathematical operations to reach the target number."
   ]
  },
  {
   "cell_type": "markdown",
   "id": "bf9f40e5-0b1b-4127-9186-ea7df5d97c22",
   "metadata": {},
   "source": [
    "#### Explanation"
   ]
  },
  {
   "cell_type": "markdown",
   "id": "c147fe58-ddfb-434e-80ca-b7c907044720",
   "metadata": {},
   "source": [
    "The contestants only have 30 seconds to work out the calculation. The game presents 24 cards. 20 of these cards range from 1 to 10, and a duplicate of each instance (1,1,2,2,3,3,4,4,5,5,6,6,7,7,8,8,9,9,10,10). The remaining four cards contain large numbers 25, 50, 75, and 100. The target number to aim for is randomly generated from 101 to 909. The players pick their 6 numbers before the target number is show. By manipulating their 6 numbers with basic arithmetic operations +, -, × , ÷ (negative integers or fractions are not allowed) the goal is to reach closest to the target number as possible (The closest player wins). Most commonly one or two large numbers are picked for the bulk of the operation, and the other small numbers are used for fine tuning. The players are allowed to use all of their numbers, however they cannot use the same card/number twice."
   ]
  },
  {
   "cell_type": "code",
   "execution_count": null,
   "id": "77bf52f9-ff4d-403c-8175-637ef6bfd5d4",
   "metadata": {},
   "outputs": [],
   "source": []
  }
 ],
 "metadata": {
  "kernelspec": {
   "display_name": "Python 3",
   "language": "python",
   "name": "python3"
  },
  "language_info": {
   "codemirror_mode": {
    "name": "ipython",
    "version": 3
   },
   "file_extension": ".py",
   "mimetype": "text/x-python",
   "name": "python",
   "nbconvert_exporter": "python",
   "pygments_lexer": "ipython3",
   "version": "3.8.8"
  }
 },
 "nbformat": 4,
 "nbformat_minor": 5
}

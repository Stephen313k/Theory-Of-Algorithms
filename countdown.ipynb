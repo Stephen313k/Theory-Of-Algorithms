{
 "cells": [
  {
   "cell_type": "markdown",
   "id": "4fb2b4e8-c991-4e45-b5cc-79b06fdcb87f",
   "metadata": {},
   "source": [
    "# Countdown Numbers Game"
   ]
  },
  {
   "cell_type": "markdown",
   "id": "ba0f0588-f88a-44a0-8a20-36c5cd2ca025",
   "metadata": {},
   "source": [
    "## Overview"
   ]
  },
  {
   "cell_type": "markdown",
   "id": "62cbd28a-28e7-4214-8d63-c7bdace1bca8",
   "metadata": {},
   "source": [
    "#### The concept"
   ]
  },
  {
   "cell_type": "markdown",
   "id": "62e7374c-6957-4997-b863-215b6e647356",
   "metadata": {},
   "source": [
    "Countdown numbers is a game show where contestants have to work out a sequence of calculations. They are given a target number at the start to aim for, they are also given 6 numbers to manipulate with mathematical operations to reach the target number."
   ]
  },
  {
   "cell_type": "markdown",
   "id": "bf9f40e5-0b1b-4127-9186-ea7df5d97c22",
   "metadata": {},
   "source": [
    "#### Explanation"
   ]
  },
  {
   "cell_type": "markdown",
   "id": "c147fe58-ddfb-434e-80ca-b7c907044720",
   "metadata": {},
   "source": [
    "The contestants only have 30 seconds to work out the calculation. The game presents 24 cards. 20 of these cards range from 1 to 10, and a duplicate of each instance (1,1,2,2,3,3,4,4,5,5,6,6,7,7,8,8,9,9,10,10). The remaining four cards contain large numbers 25, 50, 75, and 100. The target number to aim for is randomly generated from 101 to 909. The players pick their 6 numbers before the target number is show. By manipulating their 6 numbers with basic arithmetic operations +, -, × , ÷ (negative integers or fractions are not allowed). The player can only use each card once, but does not have to utilize all of their cards. The goal is to reach closest to the target number as possible (The closest player wins). Most commonly one or two large numbers are picked for the bulk of the operation, and the other small numbers are used for fine tuning. The players are allowed to use all of their numbers, however they cannot use the same card/number twice."
   ]
  },
  {
   "cell_type": "markdown",
   "id": "4f7e75d6-0901-41ad-98b7-ddf69ce0ef8e",
   "metadata": {},
   "source": [
    "#### Rules"
   ]
  },
  {
   "cell_type": "markdown",
   "id": "df692b37-9b01-41de-8c66-071e12cf8c91",
   "metadata": {},
   "source": [
    "\n",
    "<ol>\n",
    "  <li>Positive integers only</li>\n",
    "  <li>Basic arithmetic only<li>\n",
    "    <ul>\n",
    "          <li>Addition</li>\n",
    "          <li>Mulitplication</li>\n",
    "          <li>Subtracion</li>\n",
    "          <li>Division</li>\n",
    "    </ul>\n",
    "  <li>Don't have to use all of your cards</li>\n",
    "  <li>Closest player to target score wins</li>\n",
    "</ol> \n"
   ]
  },
  {
   "cell_type": "markdown",
   "id": "663b305e-1bfa-468d-a340-184a9f89b38e",
   "metadata": {},
   "source": [
    "#### Example"
   ]
  },
  {
   "cell_type": "markdown",
   "id": "b6d50761-d56c-4147-8864-36c66977dcab",
   "metadata": {},
   "source": [
    "<strong>TARGET: 884 </strong> <br>\n",
    "CARDS: |<strong> 100 </strong>|<strong> 1 </strong>|<strong> 7 </strong>|<strong> 9 </strong>|<strong> 6 </strong>|<strong> 7 </strong>|<br>\n",
    "\n",
    "Answer: <br>\n",
    "        <strong> 100 </strong> - <strong> 1 </strong> = 99 <br>\n",
    "        99 x <strong> 9 </strong> = 891 <br>\n",
    "        891 - <strong> 7 </strong> = 884 <br>\n",
    "        ____________<br>\n",
    "        equals: <strong>884</strong> <br>\n",
    " \n",
    "As seen above five of the six numbers are used to achieve the target number with basic operations <br>\n",
    "            "
   ]
  },
  {
   "cell_type": "markdown",
   "id": "c91e43c9-4d7e-45de-b16f-064204575f87",
   "metadata": {},
   "source": [
    "## Complexity "
   ]
  },
  {
   "cell_type": "markdown",
   "id": "c6c46f19-765c-4fff-9d75-a429093c653e",
   "metadata": {},
   "source": [
    "Infrix expressions are readable and solvable by humans. You can distinguish the order of operators, and use parenthesis to solve mathemtatical expressions.\n",
    "Computers cannot distinguish between different operators and paraenthesis. Posfix conversion is essential."
   ]
  },
  {
   "cell_type": "code",
   "execution_count": 12,
   "id": "7dd7effa-06a8-43ce-b3e1-f15587009681",
   "metadata": {},
   "outputs": [],
   "source": [
    "#infix expression into postfix expression.\n",
    "def expression(rpn):\n",
    "    #create a stack\n",
    "    stack = []\n",
    "    #loop through \n",
    "    for i in rpn:\n",
    "        #number must be an integer\n",
    "        if intCheck(i, int):\n",
    "            #append\n",
    "            stack = stack + [1]\n",
    "        else:\n",
    "            #pop it twice\n",
    "            stack = stack [-1]\n",
    "            left = stack[-1]\n",
    "            stack = stack[:-1]\n",
    "            left = stack[:-1]\n",
    "            #apply to stack element\n",
    "            stack = stack +[i(left), (right)]\n",
    "    #return first item in array\n",
    "    return stack[0]     "
   ]
  },
  {
   "cell_type": "markdown",
   "id": "08b58051-da41-4929-843e-59df52d96f3b",
   "metadata": {},
   "source": [
    "### Generating a Countdown numbers game"
   ]
  },
  {
   "cell_type": "markdown",
   "id": "1500f368-6ac6-487d-8e3d-d2ee1570e2cd",
   "metadata": {},
   "source": [
    "#### Generate players numbers randomly"
   ]
  },
  {
   "cell_type": "code",
   "execution_count": 3,
   "id": "78728881-e354-4cd6-839b-a5e5ef9beb8f",
   "metadata": {},
   "outputs": [],
   "source": [
    "#library for random numbers\n",
    "import random"
   ]
  },
  {
   "cell_type": "code",
   "execution_count": 4,
   "id": "7b7cf72f-bdec-4a1a-94d9-a20bd4eb6a3a",
   "metadata": {},
   "outputs": [],
   "source": [
    "#method to generate the players number for the game\n",
    "def game_Numbers(numbers=None):\n",
    "    if numbers is None:\n",
    "        #set numbers to random range values, between 0-5\n",
    "        numbers = random.randrange(0,5)\n",
    "        \n",
    "        #generate random large numbers 25, 50, 75, 100\n",
    "        large_num = random.sample([25, 50, 75, 100], numbers)\n",
    "        #generate random small numbers 0-10\n",
    "        small_num = random.sample(list(range(1, 11)) * 2, 6 - numbers)\n",
    "        #concat the numbers\n",
    "        players_numbers = large_num + small_num\n",
    "        \n",
    "    #generate random target number from (101 to 1000)\n",
    "    target_Number = random.randrange(101, 1000)\n",
    "\n",
    "    #return the player numbers and target numbers\n",
    "    return players_numbers, target_Number"
   ]
  },
  {
   "cell_type": "code",
   "execution_count": 5,
   "id": "1dff3802-c985-44e8-a848-a127f9d02554",
   "metadata": {},
   "outputs": [
    {
     "data": {
      "text/plain": [
       "([100, 50, 5, 10, 1, 7], 433)"
      ]
     },
     "execution_count": 5,
     "metadata": {},
     "output_type": "execute_result"
    }
   ],
   "source": [
    "#use what we implemented above\n",
    "players_numbers, target_Number = game_Numbers()\n",
    "#return the players numbers and target number\n",
    "players_numbers, target_Number"
   ]
  },
  {
   "cell_type": "code",
   "execution_count": 9,
   "id": "d33b58b3-f412-4f21-9374-173906256ff7",
   "metadata": {},
   "outputs": [
    {
     "data": {
      "text/plain": [
       "([25, 2, 9, 9, 8, 7], 151)"
      ]
     },
     "execution_count": 9,
     "metadata": {},
     "output_type": "execute_result"
    }
   ],
   "source": [
    "#test again to see numbers are randomly generated\n",
    "players_numbers, target_Number = game_Numbers()\n",
    "players_numbers, target_Number"
   ]
  },
  {
   "cell_type": "code",
   "execution_count": null,
   "id": "ab59a851-256f-446b-b9c1-eba3e9c7df71",
   "metadata": {},
   "outputs": [],
   "source": [
    "\n"
   ]
  },
  {
   "cell_type": "code",
   "execution_count": null,
   "id": "368a23a7-5400-4aa3-a794-8227f3281992",
   "metadata": {},
   "outputs": [],
   "source": []
  },
  {
   "cell_type": "code",
   "execution_count": null,
   "id": "68964447-ae2f-439f-97bd-aa8d95f751fd",
   "metadata": {},
   "outputs": [],
   "source": []
  }
 ],
 "metadata": {
  "kernelspec": {
   "display_name": "Python 3",
   "language": "python",
   "name": "python3"
  },
  "language_info": {
   "codemirror_mode": {
    "name": "ipython",
    "version": 3
   },
   "file_extension": ".py",
   "mimetype": "text/x-python",
   "name": "python",
   "nbconvert_exporter": "python",
   "pygments_lexer": "ipython3",
   "version": "3.8.8"
  }
 },
 "nbformat": 4,
 "nbformat_minor": 5
}

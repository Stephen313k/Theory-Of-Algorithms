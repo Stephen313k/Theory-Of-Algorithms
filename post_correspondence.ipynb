{
 "cells": [
  {
   "cell_type": "markdown",
   "id": "2511a68b",
   "metadata": {},
   "source": [
    "# Post_correspondence problem\n",
    "https://en.wikipedia.org/wiki/Correspondence_problem"
   ]
  },
  {
   "cell_type": "markdown",
   "id": "3b078ab1",
   "metadata": {},
   "source": [
    "### Sets\n",
    "https://docs.python.org/3/tutorial/datastructures.html#sets"
   ]
  },
  {
   "cell_type": "code",
   "execution_count": 1,
   "id": "ab90a6e6",
   "metadata": {},
   "outputs": [],
   "source": [
    "# A set, alphabet for strings\n",
    "A = {'a', 'b'}"
   ]
  },
  {
   "cell_type": "code",
   "execution_count": 2,
   "id": "91baabb6",
   "metadata": {},
   "outputs": [
    {
     "data": {
      "text/plain": [
       "set"
      ]
     },
     "execution_count": 2,
     "metadata": {},
     "output_type": "execute_result"
    }
   ],
   "source": [
    "#curly braces for sets\n",
    "type(A)"
   ]
  },
  {
   "cell_type": "code",
   "execution_count": 3,
   "id": "8a51d004",
   "metadata": {},
   "outputs": [
    {
     "data": {
      "text/plain": [
       "True"
      ]
     },
     "execution_count": 3,
     "metadata": {},
     "output_type": "execute_result"
    }
   ],
   "source": [
    "#unordered sets\n",
    "{'a', 'b'} == {'b', 'a'}"
   ]
  },
  {
   "cell_type": "code",
   "execution_count": 4,
   "id": "2c6598c3",
   "metadata": {},
   "outputs": [
    {
     "data": {
      "text/plain": [
       "False"
      ]
     },
     "execution_count": 4,
     "metadata": {},
     "output_type": "execute_result"
    }
   ],
   "source": [
    "#order of list is relevant\n",
    "['a', 'b'] == ['b', 'a']"
   ]
  },
  {
   "cell_type": "code",
   "execution_count": 5,
   "id": "aeee937e",
   "metadata": {},
   "outputs": [
    {
     "data": {
      "text/plain": [
       "{1, 2, 3}"
      ]
     },
     "execution_count": 5,
     "metadata": {},
     "output_type": "execute_result"
    }
   ],
   "source": [
    "#using set() function to create a set from list\n",
    "set([1,2,3])"
   ]
  },
  {
   "cell_type": "code",
   "execution_count": 6,
   "id": "ebf62b5b",
   "metadata": {},
   "outputs": [
    {
     "data": {
      "text/plain": [
       "{1, 2, 3}"
      ]
     },
     "execution_count": 6,
     "metadata": {},
     "output_type": "execute_result"
    }
   ],
   "source": [
    "# Sets don't keep count.\n",
    "set([3, 2, 2, 1])"
   ]
  },
  {
   "cell_type": "code",
   "execution_count": 7,
   "id": "3795b5a0",
   "metadata": {},
   "outputs": [
    {
     "data": {
      "text/plain": [
       "True"
      ]
     },
     "execution_count": 7,
     "metadata": {},
     "output_type": "execute_result"
    }
   ],
   "source": [
    "#Test if an item is in the set\n",
    "1 in {1, 2, 3}"
   ]
  },
  {
   "cell_type": "code",
   "execution_count": 10,
   "id": "dc8bd822",
   "metadata": {},
   "outputs": [
    {
     "data": {
      "text/plain": [
       "False"
      ]
     },
     "execution_count": 10,
     "metadata": {},
     "output_type": "execute_result"
    }
   ],
   "source": [
    "'a' in {1, 2, 3}"
   ]
  },
  {
   "cell_type": "markdown",
   "id": "914d1561",
   "metadata": {},
   "source": [
    "Defined sets give rise to a decision problem.\n",
    "The decision problem: is a given item in the set"
   ]
  },
  {
   "cell_type": "markdown",
   "id": "6e5dae5f",
   "metadata": {},
   "source": [
    "#### Tuples\n",
    "https://docs.python.org/3/tutorial/datastructures.html#tuples-and-sequences\n"
   ]
  },
  {
   "cell_type": "code",
   "execution_count": 11,
   "id": "6f838f8c",
   "metadata": {
    "scrolled": true
   },
   "outputs": [
    {
     "data": {
      "text/plain": [
       "[1, 2, 3]"
      ]
     },
     "execution_count": 11,
     "metadata": {},
     "output_type": "execute_result"
    }
   ],
   "source": [
    "# list\n",
    "[1,2,3]"
   ]
  },
  {
   "cell_type": "code",
   "execution_count": 12,
   "id": "247a3e0e",
   "metadata": {},
   "outputs": [
    {
     "data": {
      "text/plain": [
       "list"
      ]
     },
     "execution_count": 12,
     "metadata": {},
     "output_type": "execute_result"
    }
   ],
   "source": [
    "# type of list\n",
    "type([1,2,3])"
   ]
  },
  {
   "cell_type": "code",
   "execution_count": 13,
   "id": "56ef91f1",
   "metadata": {},
   "outputs": [
    {
     "data": {
      "text/plain": [
       "(1, 2, 3)"
      ]
     },
     "execution_count": 13,
     "metadata": {},
     "output_type": "execute_result"
    }
   ],
   "source": [
    "# Tuple\n",
    "(1, 2, 3)"
   ]
  },
  {
   "cell_type": "code",
   "execution_count": 14,
   "id": "3b09043f",
   "metadata": {},
   "outputs": [
    {
     "data": {
      "text/plain": [
       "tuple"
      ]
     },
     "execution_count": 14,
     "metadata": {},
     "output_type": "execute_result"
    }
   ],
   "source": [
    "# type tuple.\n",
    "type((1, 2, 3))"
   ]
  },
  {
   "cell_type": "code",
   "execution_count": 15,
   "id": "05b27835",
   "metadata": {},
   "outputs": [],
   "source": [
    "# create list\n",
    "l = [1,2,3]"
   ]
  },
  {
   "cell_type": "code",
   "execution_count": 19,
   "id": "62e0828c",
   "metadata": {},
   "outputs": [],
   "source": [
    "# Reassign an element.\n",
    "l[1] = 4"
   ]
  },
  {
   "cell_type": "code",
   "execution_count": 20,
   "id": "1a36d35c",
   "metadata": {},
   "outputs": [
    {
     "data": {
      "text/plain": [
       "1"
      ]
     },
     "execution_count": 20,
     "metadata": {},
     "output_type": "execute_result"
    }
   ],
   "source": [
    "# element is reassigned\n",
    "1"
   ]
  },
  {
   "cell_type": "code",
   "execution_count": 21,
   "id": "3dfb47db",
   "metadata": {},
   "outputs": [],
   "source": [
    "# Create a tuple.\n",
    "t = (1, 2, 3)\n"
   ]
  },
  {
   "cell_type": "code",
   "execution_count": 23,
   "id": "e427b3a5",
   "metadata": {},
   "outputs": [],
   "source": [
    "# reassign an element, not working with notebook\n",
    "#t[1] = 4"
   ]
  },
  {
   "cell_type": "code",
   "execution_count": 27,
   "id": "eaa47614",
   "metadata": {},
   "outputs": [],
   "source": [
    "# lists cannot be hashed, not working with notebook\n",
    "#hash(l)"
   ]
  },
  {
   "cell_type": "code",
   "execution_count": 28,
   "id": "e81c1c91",
   "metadata": {},
   "outputs": [
    {
     "data": {
      "text/plain": [
       "529344067295497451"
      ]
     },
     "execution_count": 28,
     "metadata": {},
     "output_type": "execute_result"
    }
   ],
   "source": [
    "# hash a tuple\n",
    "hash(t)"
   ]
  },
  {
   "cell_type": "code",
   "execution_count": 29,
   "id": "28fcf7a0",
   "metadata": {},
   "outputs": [
    {
     "data": {
      "text/plain": [
       "'0x7589b9fe71bcceb'"
      ]
     },
     "execution_count": 29,
     "metadata": {},
     "output_type": "execute_result"
    }
   ],
   "source": [
    "# output from hash function in hex\n",
    "hex(hash(t))"
   ]
  },
  {
   "cell_type": "code",
   "execution_count": 30,
   "id": "8f34bfb4",
   "metadata": {},
   "outputs": [
    {
     "data": {
      "text/plain": [
       "3"
      ]
     },
     "execution_count": 30,
     "metadata": {},
     "output_type": "execute_result"
    }
   ],
   "source": [
    "# tuples as dictionary keys\n",
    "D = {(1,2,3): 3, (1,2): 2}\n",
    "D[(1,2,3)]"
   ]
  },
  {
   "cell_type": "code",
   "execution_count": 32,
   "id": "bec97958",
   "metadata": {},
   "outputs": [],
   "source": [
    "# Lists can't be used as dictionary keys\n",
    "# = {[1,2,3]: 3, [1,2]: 2}"
   ]
  },
  {
   "cell_type": "code",
   "execution_count": 33,
   "id": "96276c84",
   "metadata": {},
   "outputs": [],
   "source": [
    "a, b = 1, 2"
   ]
  },
  {
   "cell_type": "code",
   "execution_count": 34,
   "id": "119c79ef",
   "metadata": {},
   "outputs": [
    {
     "data": {
      "text/plain": [
       "1"
      ]
     },
     "execution_count": 34,
     "metadata": {},
     "output_type": "execute_result"
    }
   ],
   "source": [
    "# listing tuples one by one\n",
    "a"
   ]
  },
  {
   "cell_type": "code",
   "execution_count": 35,
   "id": "03c847cc",
   "metadata": {},
   "outputs": [
    {
     "data": {
      "text/plain": [
       "2"
      ]
     },
     "execution_count": 35,
     "metadata": {},
     "output_type": "execute_result"
    }
   ],
   "source": [
    "b"
   ]
  },
  {
   "cell_type": "code",
   "execution_count": 36,
   "id": "4a9a364c",
   "metadata": {},
   "outputs": [
    {
     "data": {
      "text/plain": [
       "{1, 2, 3}"
      ]
     },
     "execution_count": 36,
     "metadata": {},
     "output_type": "execute_result"
    }
   ],
   "source": [
    "# round brackets for some contexts\n",
    "set((1, 2, 3))"
   ]
  },
  {
   "cell_type": "markdown",
   "id": "823ee556",
   "metadata": {},
   "source": [
    "### The problem"
   ]
  },
  {
   "cell_type": "code",
   "execution_count": 1,
   "id": "491a6a50",
   "metadata": {},
   "outputs": [],
   "source": [
    "a = 'a'"
   ]
  },
  {
   "cell_type": "code",
   "execution_count": 2,
   "id": "02afc0c2",
   "metadata": {},
   "outputs": [],
   "source": [
    "b = 'b'"
   ]
  },
  {
   "cell_type": "code",
   "execution_count": 4,
   "id": "c628287e",
   "metadata": {},
   "outputs": [],
   "source": [
    "# List number 1.\n",
    "L1 = ((a,), (a, b), (b, b, a))"
   ]
  },
  {
   "cell_type": "code",
   "execution_count": 5,
   "id": "1cb75319",
   "metadata": {},
   "outputs": [
    {
     "data": {
      "text/plain": [
       "(('a',), ('a', 'b'), ('b', 'b', 'a'))"
      ]
     },
     "execution_count": 5,
     "metadata": {},
     "output_type": "execute_result"
    }
   ],
   "source": [
    "L1"
   ]
  },
  {
   "cell_type": "code",
   "execution_count": 3,
   "id": "61a5540d",
   "metadata": {},
   "outputs": [],
   "source": [
    "# List number 2.\n",
    "L2 = ((b, a, a), (a, a), (b, b))"
   ]
  },
  {
   "cell_type": "code",
   "execution_count": 6,
   "id": "dcaac52d",
   "metadata": {},
   "outputs": [
    {
     "data": {
      "text/plain": [
       "(('b', 'a', 'a'), ('a', 'a'), ('b', 'b'))"
      ]
     },
     "execution_count": 6,
     "metadata": {},
     "output_type": "execute_result"
    }
   ],
   "source": [
    "L2"
   ]
  },
  {
   "cell_type": "code",
   "execution_count": 7,
   "id": "8c4aa835",
   "metadata": {},
   "outputs": [],
   "source": [
    "# A proposed solution.\n",
    "S = (2, 1, 2, 0)"
   ]
  },
  {
   "cell_type": "code",
   "execution_count": 8,
   "id": "547e104d",
   "metadata": {},
   "outputs": [],
   "source": [
    "# Proposed solution to a tuple\n",
    "def apply(S, L):\n",
    "    S_on_L = [''.join(L[i]) for i in S]\n",
    "    return ''.join(S_on_L)"
   ]
  },
  {
   "cell_type": "code",
   "execution_count": 9,
   "id": "86b6ed59",
   "metadata": {},
   "outputs": [
    {
     "data": {
      "text/plain": [
       "'bbaabbbaa'"
      ]
     },
     "execution_count": 9,
     "metadata": {},
     "output_type": "execute_result"
    }
   ],
   "source": [
    "# Apply S to L1.\n",
    "apply(S, L1)"
   ]
  },
  {
   "cell_type": "code",
   "execution_count": 10,
   "id": "f7747867",
   "metadata": {},
   "outputs": [
    {
     "data": {
      "text/plain": [
       "'bbaabbbaa'"
      ]
     },
     "execution_count": 10,
     "metadata": {},
     "output_type": "execute_result"
    }
   ],
   "source": [
    "# Apply S to L2.\n",
    "apply(S, L2)"
   ]
  },
  {
   "cell_type": "code",
   "execution_count": 11,
   "id": "33c57dd1",
   "metadata": {},
   "outputs": [
    {
     "data": {
      "text/plain": [
       "True"
      ]
     },
     "execution_count": 11,
     "metadata": {},
     "output_type": "execute_result"
    }
   ],
   "source": [
    "apply(S, L1) == apply(S, L2)"
   ]
  },
  {
   "cell_type": "code",
   "execution_count": 13,
   "id": "3ca7f4dd",
   "metadata": {},
   "outputs": [
    {
     "data": {
      "text/plain": [
       "'bbaabbbaabbaabbbaa'"
      ]
     },
     "execution_count": 13,
     "metadata": {},
     "output_type": "execute_result"
    }
   ],
   "source": [
    "# Another solution: infinate many\n",
    "apply((2, 1, 2, 0, 2, 1, 2, 0), L1)"
   ]
  },
  {
   "cell_type": "code",
   "execution_count": 14,
   "id": "ddad20f3",
   "metadata": {},
   "outputs": [
    {
     "data": {
      "text/plain": [
       "'bbaabbbaabbaabbbaa'"
      ]
     },
     "execution_count": 14,
     "metadata": {},
     "output_type": "execute_result"
    }
   ],
   "source": [
    "apply((2, 1, 2, 0, 2, 1, 2, 0), L2)"
   ]
  },
  {
   "cell_type": "markdown",
   "id": "5924b26b",
   "metadata": {},
   "source": [
    "### No correspondence"
   ]
  },
  {
   "cell_type": "code",
   "execution_count": 15,
   "id": "caea605a",
   "metadata": {},
   "outputs": [],
   "source": [
    "# List 1\n",
    "L1 = ((a, b), (b, b, a))"
   ]
  },
  {
   "cell_type": "code",
   "execution_count": 16,
   "id": "64d6b535",
   "metadata": {},
   "outputs": [],
   "source": [
    "# List 2.\n",
    "L2 = ((a, a), (b, b))"
   ]
  },
  {
   "cell_type": "code",
   "execution_count": 17,
   "id": "42dd898d",
   "metadata": {},
   "outputs": [
    {
     "data": {
      "text/plain": [
       "(2, 1, 2, 0)"
      ]
     },
     "execution_count": 17,
     "metadata": {},
     "output_type": "execute_result"
    }
   ],
   "source": [
    "S "
   ]
  },
  {
   "cell_type": "code",
   "execution_count": 18,
   "id": "d5c5fea9",
   "metadata": {},
   "outputs": [],
   "source": [
    "possibles = ((0,), (1,), (0,0), (0, 1), (1, 0), (1,1), (0,0,0), (0,0,1), (0,1,0), ...)"
   ]
  },
  {
   "cell_type": "code",
   "execution_count": null,
   "id": "3e5c984d",
   "metadata": {},
   "outputs": [],
   "source": [
    "#IMG IMG IMG IMG "
   ]
  },
  {
   "cell_type": "code",
   "execution_count": null,
   "id": "2125d5b2",
   "metadata": {},
   "outputs": [],
   "source": [
    "##################################"
   ]
  },
  {
   "cell_type": "markdown",
   "id": "6afdc7bf",
   "metadata": {},
   "source": [
    "### Bounded PCP"
   ]
  },
  {
   "cell_type": "code",
   "execution_count": 21,
   "id": "bbe0380e",
   "metadata": {},
   "outputs": [],
   "source": [
    "# Write a solver for the bounded version.\n",
    "def bpcp_solver(L1, L2, K):\n",
    "    if correspond(L1, L2, K):\n",
    "        return True\n",
    "    else:\n",
    "        return False\n",
    "    \n",
    "# Correspond needs to state whether a solution S of max length K exists.\n",
    "def correspond(L1, L2, K):\n",
    "    # Your algorithm here.\n",
    "    return True if solution else False"
   ]
  },
  {
   "cell_type": "markdown",
   "id": "9f507ff2",
   "metadata": {},
   "source": [
    "### Itertools\n",
    "https://realpython.com/python-itertools/"
   ]
  },
  {
   "cell_type": "code",
   "execution_count": 22,
   "id": "40d24bc7",
   "metadata": {},
   "outputs": [],
   "source": [
    "# Module in the Python standard library.\n",
    "import itertools as it"
   ]
  },
  {
   "cell_type": "code",
   "execution_count": 23,
   "id": "78d93248",
   "metadata": {},
   "outputs": [
    {
     "data": {
      "text/plain": [
       "[('A', 'B', 'C'),\n",
       " ('A', 'C', 'B'),\n",
       " ('B', 'A', 'C'),\n",
       " ('B', 'C', 'A'),\n",
       " ('C', 'A', 'B'),\n",
       " ('C', 'B', 'A')]"
      ]
     },
     "execution_count": 23,
     "metadata": {},
     "output_type": "execute_result"
    }
   ],
   "source": [
    "# Permutations.\n",
    "list(it.permutations('ABC'))"
   ]
  },
  {
   "cell_type": "code",
   "execution_count": 24,
   "id": "3167b3d8",
   "metadata": {},
   "outputs": [
    {
     "data": {
      "text/plain": [
       "[('A', 'B'), ('A', 'C'), ('B', 'C')]"
      ]
     },
     "execution_count": 24,
     "metadata": {},
     "output_type": "execute_result"
    }
   ],
   "source": [
    "list(it.combinations('ABC', 2))"
   ]
  },
  {
   "cell_type": "code",
   "execution_count": 25,
   "id": "5dc510ac",
   "metadata": {
    "scrolled": true
   },
   "outputs": [
    {
     "data": {
      "text/plain": [
       "[('A', 'A'),\n",
       " ('A', 'B'),\n",
       " ('A', 'C'),\n",
       " ('A', 'D'),\n",
       " ('B', 'A'),\n",
       " ('B', 'B'),\n",
       " ('B', 'C'),\n",
       " ('B', 'D'),\n",
       " ('C', 'A'),\n",
       " ('C', 'B'),\n",
       " ('C', 'C'),\n",
       " ('C', 'D'),\n",
       " ('D', 'A'),\n",
       " ('D', 'B'),\n",
       " ('D', 'C'),\n",
       " ('D', 'D')]"
      ]
     },
     "execution_count": 25,
     "metadata": {},
     "output_type": "execute_result"
    }
   ],
   "source": [
    "list(it.product('ABCD', 'ABCD'))"
   ]
  },
  {
   "cell_type": "code",
   "execution_count": 26,
   "id": "30e5cc52",
   "metadata": {},
   "outputs": [
    {
     "data": {
      "text/plain": [
       "[(0, 0, 0),\n",
       " (0, 0, 1),\n",
       " (0, 1, 0),\n",
       " (0, 1, 1),\n",
       " (1, 0, 0),\n",
       " (1, 0, 1),\n",
       " (1, 1, 0),\n",
       " (1, 1, 1)]"
      ]
     },
     "execution_count": 26,
     "metadata": {},
     "output_type": "execute_result"
    }
   ],
   "source": [
    "list(it.product(range(len(L1)), range(len(L1)), range(len(L1))))"
   ]
  },
  {
   "cell_type": "code",
   "execution_count": 27,
   "id": "87dc1ac6",
   "metadata": {},
   "outputs": [],
   "source": [
    "# Bound for the bounded problem.\n",
    "K = 4"
   ]
  },
  {
   "cell_type": "code",
   "execution_count": 28,
   "id": "c553cee7",
   "metadata": {},
   "outputs": [],
   "source": [
    "# Generators.\n",
    "gens = []"
   ]
  },
  {
   "cell_type": "code",
   "execution_count": 29,
   "id": "4af17f50",
   "metadata": {},
   "outputs": [
    {
     "name": "stdout",
     "output_type": "stream",
     "text": [
      "(0,)\n",
      "(1,)\n",
      "(0, 0)\n",
      "(0, 1)\n",
      "(1, 0)\n",
      "(1, 1)\n",
      "(0, 0, 0)\n",
      "(0, 0, 1)\n",
      "(0, 1, 0)\n",
      "(0, 1, 1)\n",
      "(1, 0, 0)\n",
      "(1, 0, 1)\n",
      "(1, 1, 0)\n",
      "(1, 1, 1)\n",
      "(0, 0, 0, 0)\n",
      "(0, 0, 0, 1)\n",
      "(0, 0, 1, 0)\n",
      "(0, 0, 1, 1)\n",
      "(0, 1, 0, 0)\n",
      "(0, 1, 0, 1)\n",
      "(0, 1, 1, 0)\n",
      "(0, 1, 1, 1)\n",
      "(1, 0, 0, 0)\n",
      "(1, 0, 0, 1)\n",
      "(1, 0, 1, 0)\n",
      "(1, 0, 1, 1)\n",
      "(1, 1, 0, 0)\n",
      "(1, 1, 0, 1)\n",
      "(1, 1, 1, 0)\n",
      "(1, 1, 1, 1)\n"
     ]
    }
   ],
   "source": [
    "# Loop through all possible solutions.\n",
    "for i in range(1, K + 1):\n",
    "    # Create a generator for solutions of length i, append it to gens.\n",
    "    gens.append(it.product(*([range(len(L1))] * i)))\n",
    "\n",
    "# it.chain just chains generators together.\n",
    "for solution in it.chain(*gens):\n",
    "  print(solution)"
   ]
  },
  {
   "cell_type": "code",
   "execution_count": 33,
   "id": "11b74733",
   "metadata": {},
   "outputs": [
    {
     "name": "stdout",
     "output_type": "stream",
     "text": [
      "[1, 2, 3]\n"
     ]
    }
   ],
   "source": [
    "#Print a list of three elements.\n",
    "print([1,2,3])"
   ]
  },
  {
   "cell_type": "code",
   "execution_count": 34,
   "id": "9eec7181",
   "metadata": {},
   "outputs": [
    {
     "name": "stdout",
     "output_type": "stream",
     "text": [
      "1 2 3\n"
     ]
    }
   ],
   "source": [
    "# Elements of the list, three parameters/arguments.\n",
    "print(*[1,2,3])\n"
   ]
  },
  {
   "cell_type": "code",
   "execution_count": null,
   "id": "8ddde5e2",
   "metadata": {},
   "outputs": [],
   "source": []
  }
 ],
 "metadata": {
  "kernelspec": {
   "display_name": "Python 3",
   "language": "python",
   "name": "python3"
  },
  "language_info": {
   "codemirror_mode": {
    "name": "ipython",
    "version": 3
   },
   "file_extension": ".py",
   "mimetype": "text/x-python",
   "name": "python",
   "nbconvert_exporter": "python",
   "pygments_lexer": "ipython3",
   "version": "3.8.8"
  }
 },
 "nbformat": 4,
 "nbformat_minor": 5
}

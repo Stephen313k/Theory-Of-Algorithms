{
 "cells": [
  {
   "cell_type": "code",
   "execution_count": 10,
   "id": "452c14f3",
   "metadata": {},
   "outputs": [],
   "source": [
    "# Permutations and combinations.\n",
    "import itertools as it"
   ]
  },
  {
   "cell_type": "code",
   "execution_count": 11,
   "id": "04861357",
   "metadata": {},
   "outputs": [],
   "source": [
    "# Random number generation.\n",
    "import random"
   ]
  },
  {
   "cell_type": "code",
   "execution_count": 12,
   "id": "c77c44df",
   "metadata": {},
   "outputs": [],
   "source": [
    "# Operators as functions.\n",
    "import operator"
   ]
  },
  {
   "cell_type": "markdown",
   "id": "eea5a0d5",
   "metadata": {},
   "source": [
    "## Simulate a Countdown numbers game"
   ]
  },
  {
   "cell_type": "code",
   "execution_count": 13,
   "id": "0f04e84c",
   "metadata": {},
   "outputs": [
    {
     "data": {
      "text/plain": [
       "[25, 50, 75, 100]"
      ]
     },
     "execution_count": 13,
     "metadata": {},
     "output_type": "execute_result"
    }
   ],
   "source": [
    "# The large numbers.\n",
    "large = [25, 50, 75, 100]\n",
    "large"
   ]
  },
  {
   "cell_type": "code",
   "execution_count": 14,
   "id": "5487a5c4",
   "metadata": {},
   "outputs": [
    {
     "data": {
      "text/plain": [
       "[1, 1, 2, 2, 3, 3, 4, 4, 5, 5, 6, 6, 7, 7, 8, 8, 9, 9, 10, 10]"
      ]
     },
     "execution_count": 14,
     "metadata": {},
     "output_type": "execute_result"
    }
   ],
   "source": [
    "# The small numbers.\n",
    "small = sorted(list(range(1, 11)) * 2)\n",
    "small"
   ]
  },
  {
   "cell_type": "code",
   "execution_count": 15,
   "id": "91b1afd1",
   "metadata": {},
   "outputs": [
    {
     "data": {
      "text/plain": [
       "3"
      ]
     },
     "execution_count": 15,
     "metadata": {},
     "output_type": "execute_result"
    }
   ],
   "source": [
    "# The number of large numbers to pick - between 0 and 4 inclusive.\n",
    "no_large = random.randrange(0, 5)\n",
    "no_large"
   ]
  },
  {
   "cell_type": "code",
   "execution_count": 16,
   "id": "b99fd59c",
   "metadata": {},
   "outputs": [
    {
     "data": {
      "text/plain": [
       "[50, 75, 100]"
      ]
     },
     "execution_count": 16,
     "metadata": {},
     "output_type": "execute_result"
    }
   ],
   "source": [
    "# Select no_large large numbers at random.\n",
    "large_rand = random.sample(large, no_large)\n",
    "large_rand"
   ]
  },
  {
   "cell_type": "code",
   "execution_count": 17,
   "id": "5121774c",
   "metadata": {},
   "outputs": [
    {
     "data": {
      "text/plain": [
       "[1, 10, 4]"
      ]
     },
     "execution_count": 17,
     "metadata": {},
     "output_type": "execute_result"
    }
   ],
   "source": [
    "# Select (6 - no_large) small numbers at random.\n",
    "small_rand = random.sample(small, 6 - no_large)\n",
    "small_rand"
   ]
  },
  {
   "cell_type": "code",
   "execution_count": 18,
   "id": "7b3d5d10",
   "metadata": {},
   "outputs": [
    {
     "data": {
      "text/plain": [
       "[50, 75, 100, 1, 10, 4]"
      ]
     },
     "execution_count": 18,
     "metadata": {},
     "output_type": "execute_result"
    }
   ],
   "source": [
    "# The six random numbers in a list.\n",
    "play_nos = large_rand + small_rand\n",
    "play_nos"
   ]
  },
  {
   "cell_type": "code",
   "execution_count": 19,
   "id": "5cd59543",
   "metadata": {},
   "outputs": [
    {
     "data": {
      "text/plain": [
       "125"
      ]
     },
     "execution_count": 19,
     "metadata": {},
     "output_type": "execute_result"
    }
   ],
   "source": [
    "# Pick a random target number.\n",
    "target = random.randrange(101, 1000)\n",
    "target"
   ]
  },
  {
   "cell_type": "code",
   "execution_count": 20,
   "id": "81647dfe",
   "metadata": {},
   "outputs": [],
   "source": [
    "# All in one function.\n",
    "\n",
    "# For random nubmers and samples.\n",
    "import random\n",
    "\n",
    "def new_numbers_game(no_large=None):\n",
    "  \"\"\" Returns six numbers and a target number representing a Countdown numbers game.\n",
    "  \"\"\"\n",
    "  # If no_large in None, randomly pick value between 0 and 4 inclusive.\n",
    "  if no_large is None:\n",
    "    # Randomly set the value.\n",
    "    no_large = random.randrange(0, 5)\n",
    "  \n",
    "  # Select random large numbers.\n",
    "  large_rand = random.sample([25, 50, 75, 100], no_large)\n",
    "  # Select random small numbers.\n",
    "  small_rand = random.sample(list(range(1, 11)) * 2, 6 - no_large)\n",
    "  # The playing numbers.\n",
    "  play_nos = large_rand + small_rand\n",
    "\n",
    "  # Select a target number.\n",
    "  target = random.randrange(101, 1000)\n",
    "\n",
    "  # Return the game.\n",
    "  return play_nos, target"
   ]
  },
  {
   "cell_type": "code",
   "execution_count": 21,
   "id": "994f9ab8",
   "metadata": {},
   "outputs": [
    {
     "data": {
      "text/plain": [
       "([75, 50, 25, 9, 8, 1], 138)"
      ]
     },
     "execution_count": 21,
     "metadata": {},
     "output_type": "execute_result"
    }
   ],
   "source": [
    "# Random nubmers game.\n",
    "new_numbers_game()"
   ]
  },
  {
   "cell_type": "markdown",
   "id": "87ff6ec0-71bd-4345-9afc-4e377cb3bc94",
   "metadata": {},
   "source": [
    "## Finding the Solution\n",
    "\n",
    "***"
   ]
  },
  {
   "cell_type": "code",
   "execution_count": 22,
   "id": "11eddd6f-66fa-4521-970a-6391e0ff19a4",
   "metadata": {},
   "outputs": [
    {
     "data": {
      "text/plain": [
       "([75, 25, 1, 10, 3, 3], 972)"
      ]
     },
     "execution_count": 22,
     "metadata": {},
     "output_type": "execute_result"
    }
   ],
   "source": [
    "#new game\n",
    "play_nos, target = new_numbers_game()\n",
    "play_nos, target"
   ]
  },
  {
   "cell_type": "code",
   "execution_count": 23,
   "id": "27d023a5-04be-46e7-99b1-b22b30fd4408",
   "metadata": {},
   "outputs": [
    {
     "name": "stdout",
     "output_type": "stream",
     "text": [
      "(75, 25)\n",
      "75 + 25 = 100\n",
      "75 * 25 = 1875\n",
      "75 - 25 = 50\n",
      "75 / 25 = 3\n",
      "\n",
      "(75, 1)\n",
      "75 + 1 = 76\n",
      "75 * 1 = 75\n",
      "75 - 1 = 74\n",
      "75 / 1 = 75\n",
      "\n",
      "(75, 10)\n",
      "75 + 10 = 85\n",
      "75 * 10 = 750\n",
      "75 - 10 = 65\n",
      "\n",
      "(75, 3)\n",
      "75 + 3 = 78\n",
      "75 * 3 = 225\n",
      "75 - 3 = 72\n",
      "75 / 3 = 25\n",
      "\n",
      "(75, 3)\n",
      "75 + 3 = 78\n",
      "75 * 3 = 225\n",
      "75 - 3 = 72\n",
      "75 / 3 = 25\n",
      "\n",
      "(25, 75)\n",
      "25 + 75 = 100\n",
      "25 * 75 = 1875\n",
      "\n",
      "(25, 1)\n",
      "25 + 1 = 26\n",
      "25 * 1 = 25\n",
      "25 - 1 = 24\n",
      "25 / 1 = 25\n",
      "\n",
      "(25, 10)\n",
      "25 + 10 = 35\n",
      "25 * 10 = 250\n",
      "25 - 10 = 15\n",
      "\n",
      "(25, 3)\n",
      "25 + 3 = 28\n",
      "25 * 3 = 75\n",
      "25 - 3 = 22\n",
      "\n",
      "(25, 3)\n",
      "25 + 3 = 28\n",
      "25 * 3 = 75\n",
      "25 - 3 = 22\n",
      "\n",
      "(1, 75)\n",
      "1 + 75 = 76\n",
      "1 * 75 = 75\n",
      "\n",
      "(1, 25)\n",
      "1 + 25 = 26\n",
      "1 * 25 = 25\n",
      "\n",
      "(1, 10)\n",
      "1 + 10 = 11\n",
      "1 * 10 = 10\n",
      "\n",
      "(1, 3)\n",
      "1 + 3 = 4\n",
      "1 * 3 = 3\n",
      "\n",
      "(1, 3)\n",
      "1 + 3 = 4\n",
      "1 * 3 = 3\n",
      "\n",
      "(10, 75)\n",
      "10 + 75 = 85\n",
      "10 * 75 = 750\n",
      "\n",
      "(10, 25)\n",
      "10 + 25 = 35\n",
      "10 * 25 = 250\n",
      "\n",
      "(10, 1)\n",
      "10 + 1 = 11\n",
      "10 * 1 = 10\n",
      "10 - 1 = 9\n",
      "10 / 1 = 10\n",
      "\n",
      "(10, 3)\n",
      "10 + 3 = 13\n",
      "10 * 3 = 30\n",
      "10 - 3 = 7\n",
      "\n",
      "(10, 3)\n",
      "10 + 3 = 13\n",
      "10 * 3 = 30\n",
      "10 - 3 = 7\n",
      "\n",
      "(3, 75)\n",
      "3 + 75 = 78\n",
      "3 * 75 = 225\n",
      "\n",
      "(3, 25)\n",
      "3 + 25 = 28\n",
      "3 * 25 = 75\n",
      "\n",
      "(3, 1)\n",
      "3 + 1 = 4\n",
      "3 * 1 = 3\n",
      "3 - 1 = 2\n",
      "3 / 1 = 3\n",
      "\n",
      "(3, 10)\n",
      "3 + 10 = 13\n",
      "3 * 10 = 30\n",
      "\n",
      "(3, 3)\n",
      "3 + 3 = 6\n",
      "3 * 3 = 9\n",
      "3 / 3 = 1\n",
      "\n",
      "(3, 75)\n",
      "3 + 75 = 78\n",
      "3 * 75 = 225\n",
      "\n",
      "(3, 25)\n",
      "3 + 25 = 28\n",
      "3 * 25 = 75\n",
      "\n",
      "(3, 1)\n",
      "3 + 1 = 4\n",
      "3 * 1 = 3\n",
      "3 - 1 = 2\n",
      "3 / 1 = 3\n",
      "\n",
      "(3, 10)\n",
      "3 + 10 = 13\n",
      "3 * 10 = 30\n",
      "\n",
      "(3, 3)\n",
      "3 + 3 = 6\n",
      "3 * 3 = 9\n",
      "3 / 3 = 1\n",
      "\n"
     ]
    }
   ],
   "source": [
    "# Looping through all permutations of two playing numbers.\n",
    "for p in it.permutations(play_nos, 2):\n",
    "  # Print the two numbers.\n",
    "  print(p)\n",
    "  # Print their sum.\n",
    "  print(f'{p[0]} + {p[1]} = {p[0]+p[1]}')\n",
    "  # Print their product.\n",
    "  print(f'{p[0]} * {p[1]} = {p[0]*p[1]}')\n",
    "  # Print their difference if it is positive.\n",
    "  if p[0] - p[1] > 0:\n",
    "    print(f'{p[0]} - {p[1]} = {p[0]-p[1]}')\n",
    "  # Print their quotient if it is an integer.\n",
    "  if p[0] % p[1] == 0:\n",
    "    print(f'{p[0]} / {p[1]} = {p[0]//p[1]}')\n",
    "  # Print a blank line.\n",
    "  print()"
   ]
  },
  {
   "cell_type": "markdown",
   "id": "ce9ba631-47ef-4c41-88ae-3c7ff8af3ff6",
   "metadata": {},
   "source": [
    "## Operators & Functions\n",
    "***"
   ]
  },
  {
   "cell_type": "code",
   "execution_count": 24,
   "id": "cbffe19f-727c-4eb0-9155-92326d9cd468",
   "metadata": {},
   "outputs": [
    {
     "data": {
      "text/plain": [
       "9"
      ]
     },
     "execution_count": 24,
     "metadata": {},
     "output_type": "execute_result"
    }
   ],
   "source": [
    "# The + operator as a function.\n",
    "operator.add(4, 5)"
   ]
  },
  {
   "cell_type": "code",
   "execution_count": 25,
   "id": "b956ebc7-82d6-4bcb-9a5f-0b48ff037598",
   "metadata": {},
   "outputs": [
    {
     "data": {
      "text/plain": [
       "20"
      ]
     },
     "execution_count": 25,
     "metadata": {},
     "output_type": "execute_result"
    }
   ],
   "source": [
    "# The * operator as a function.\n",
    "operator.mul(4, 5)"
   ]
  },
  {
   "cell_type": "code",
   "execution_count": 26,
   "id": "18cada76-d49c-49c5-912f-afc89681fa9c",
   "metadata": {},
   "outputs": [
    {
     "data": {
      "text/plain": [
       "-1"
      ]
     },
     "execution_count": 26,
     "metadata": {},
     "output_type": "execute_result"
    }
   ],
   "source": [
    "# The - operator as a function.\n",
    "operator.sub(4, 5)"
   ]
  },
  {
   "cell_type": "code",
   "execution_count": 27,
   "id": "2d7558ab-8382-4f4d-98f6-d1900b6d839c",
   "metadata": {},
   "outputs": [
    {
     "data": {
      "text/plain": [
       "0.8"
      ]
     },
     "execution_count": 27,
     "metadata": {},
     "output_type": "execute_result"
    }
   ],
   "source": [
    "# The / operator as a function.\n",
    "operator.truediv(4, 5)"
   ]
  },
  {
   "cell_type": "code",
   "execution_count": 28,
   "id": "e7e13ca8-2e3b-49a6-b091-dd6f77dcd3e2",
   "metadata": {},
   "outputs": [
    {
     "data": {
      "text/plain": [
       "[<function _operator.add(a, b, /)>,\n",
       " <function _operator.mul(a, b, /)>,\n",
       " <function _operator.sub(a, b, /)>,\n",
       " <function _operator.truediv(a, b, /)>]"
      ]
     },
     "execution_count": 28,
     "metadata": {},
     "output_type": "execute_result"
    }
   ],
   "source": [
    "# The benefit of these is that they are first class objects.\n",
    "# Note the +, -, *, / operators can't be put in lists.\n",
    "ops = [operator.add, operator.mul, operator.sub, operator.truediv]\n",
    "ops"
   ]
  },
  {
   "cell_type": "code",
   "execution_count": 29,
   "id": "64f6b932-e9c5-44f4-a7ca-38a76a41abfc",
   "metadata": {},
   "outputs": [
    {
     "name": "stdout",
     "output_type": "stream",
     "text": [
      "(<built-in function add>, <built-in function mul>, <built-in function sub>, <built-in function truediv>, <built-in function add>)\n",
      "(<built-in function add>, <built-in function mul>, <built-in function sub>, <built-in function truediv>, <built-in function mul>)\n",
      "(<built-in function add>, <built-in function mul>, <built-in function sub>, <built-in function truediv>, <built-in function sub>)\n",
      "(<built-in function add>, <built-in function mul>, <built-in function sub>, <built-in function truediv>, <built-in function truediv>)\n",
      "(<built-in function add>, <built-in function mul>, <built-in function sub>, <built-in function truediv>, <built-in function add>)\n",
      "(<built-in function add>, <built-in function mul>, <built-in function sub>, <built-in function truediv>, <built-in function mul>)\n",
      "(<built-in function add>, <built-in function mul>, <built-in function sub>, <built-in function truediv>, <built-in function sub>)\n",
      "(<built-in function add>, <built-in function mul>, <built-in function sub>, <built-in function truediv>, <built-in function truediv>)\n",
      "(<built-in function add>, <built-in function mul>, <built-in function sub>, <built-in function truediv>, <built-in function add>)\n",
      "(<built-in function add>, <built-in function mul>, <built-in function sub>, <built-in function truediv>, <built-in function mul>)\n"
     ]
    }
   ],
   "source": [
    "# Using permutations we can get all permutations with replacement of five operations.\n",
    "\n",
    "# We use a limit because their are a large number.\n",
    "limit = 10\n",
    "\n",
    "\n",
    "for q in it.permutations(ops * 5, 5):\n",
    "  if limit == 0:\n",
    "    break\n",
    "  print(q)\n",
    "  limit = limit - 1"
   ]
  },
  {
   "cell_type": "markdown",
   "id": "b8d1929d-5b60-4f2d-9577-3abaa3535cf0",
   "metadata": {},
   "source": [
    "## Permutations & Combinations\n",
    "***"
   ]
  },
  {
   "cell_type": "code",
   "execution_count": 31,
   "id": "15e524a2-ec77-4f33-9e87-9ae7c249061b",
   "metadata": {},
   "outputs": [
    {
     "name": "stdout",
     "output_type": "stream",
     "text": [
      "(1, 2)\n",
      "(1, 3)\n",
      "(1, 4)\n",
      "(2, 3)\n",
      "(2, 4)\n",
      "(3, 4)\n"
     ]
    }
   ],
   "source": [
    "# Example of combinations.\n",
    "# Order matters: no. Replacement: no.\n",
    "L = [1, 2, 3, 4]\n",
    "for c in it.combinations(L, 2):\n",
    "  print(c)"
   ]
  },
  {
   "cell_type": "code",
   "execution_count": 32,
   "id": "7f4a75de-59c2-468f-8ba8-2e2bbf5dbf78",
   "metadata": {},
   "outputs": [
    {
     "name": "stdout",
     "output_type": "stream",
     "text": [
      "(1, 1)\n",
      "(1, 2)\n",
      "(1, 3)\n",
      "(1, 4)\n",
      "(2, 2)\n",
      "(2, 3)\n",
      "(2, 4)\n",
      "(3, 3)\n",
      "(3, 4)\n",
      "(4, 4)\n"
     ]
    }
   ],
   "source": [
    "# Example of combinations with replacement.\n",
    "# Order matters: no. Replacement: yes.\n",
    "L = [1, 2, 3, 4]\n",
    "for c in it.combinations_with_replacement(L, 2):\n",
    "  print(c)"
   ]
  },
  {
   "cell_type": "code",
   "execution_count": 33,
   "id": "e13c703f-2829-4a10-a770-9d5ffc0c6a95",
   "metadata": {},
   "outputs": [
    {
     "name": "stdout",
     "output_type": "stream",
     "text": [
      "(1, 2)\n",
      "(1, 3)\n",
      "(1, 4)\n",
      "(2, 1)\n",
      "(2, 3)\n",
      "(2, 4)\n",
      "(3, 1)\n",
      "(3, 2)\n",
      "(3, 4)\n",
      "(4, 1)\n",
      "(4, 2)\n",
      "(4, 3)\n"
     ]
    }
   ],
   "source": [
    "# Example of permutations of size 2.\n",
    "# Order matters: yes. Replacement: no.\n",
    "L = [1, 2, 3, 4]\n",
    "for c in it.permutations(L, 2):\n",
    "  print(c)"
   ]
  },
  {
   "cell_type": "code",
   "execution_count": 34,
   "id": "8b3dea2f-f7ce-491c-817e-48353e07a4bf",
   "metadata": {},
   "outputs": [
    {
     "name": "stdout",
     "output_type": "stream",
     "text": [
      "(1, 1)\n",
      "(1, 2)\n",
      "(1, 3)\n",
      "(1, 4)\n",
      "(2, 1)\n",
      "(2, 2)\n",
      "(2, 3)\n",
      "(2, 4)\n",
      "(3, 1)\n",
      "(3, 2)\n",
      "(3, 3)\n",
      "(3, 4)\n",
      "(4, 1)\n",
      "(4, 2)\n",
      "(4, 3)\n",
      "(4, 4)\n"
     ]
    }
   ],
   "source": [
    "# Example of products of length 2.\n",
    "# Order matters: yes. Replacement: yes.\n",
    "L = [1, 2, 3, 4]\n",
    "for c in it.product(L, repeat=2):\n",
    "  print(c)"
   ]
  },
  {
   "cell_type": "code",
   "execution_count": 35,
   "id": "4ed02258-c750-445f-a244-10a0b03708a4",
   "metadata": {},
   "outputs": [
    {
     "name": "stdout",
     "output_type": "stream",
     "text": [
      "(<built-in function add>, <built-in function add>, <built-in function add>, <built-in function add>, <built-in function add>)\n",
      "(<built-in function add>, <built-in function add>, <built-in function add>, <built-in function add>, <built-in function mul>)\n",
      "(<built-in function add>, <built-in function add>, <built-in function add>, <built-in function add>, <built-in function sub>)\n",
      "(<built-in function add>, <built-in function add>, <built-in function add>, <built-in function add>, <built-in function truediv>)\n",
      "(<built-in function add>, <built-in function add>, <built-in function add>, <built-in function mul>, <built-in function add>)\n",
      "(<built-in function add>, <built-in function add>, <built-in function add>, <built-in function mul>, <built-in function mul>)\n",
      "(<built-in function add>, <built-in function add>, <built-in function add>, <built-in function mul>, <built-in function sub>)\n",
      "(<built-in function add>, <built-in function add>, <built-in function add>, <built-in function mul>, <built-in function truediv>)\n",
      "(<built-in function add>, <built-in function add>, <built-in function add>, <built-in function sub>, <built-in function add>)\n",
      "(<built-in function add>, <built-in function add>, <built-in function add>, <built-in function sub>, <built-in function mul>)\n",
      "(<built-in function add>, <built-in function add>, <built-in function add>, <built-in function sub>, <built-in function sub>)\n",
      "(<built-in function add>, <built-in function add>, <built-in function add>, <built-in function sub>, <built-in function truediv>)\n",
      "(<built-in function add>, <built-in function add>, <built-in function add>, <built-in function truediv>, <built-in function add>)\n",
      "(<built-in function add>, <built-in function add>, <built-in function add>, <built-in function truediv>, <built-in function mul>)\n",
      "(<built-in function add>, <built-in function add>, <built-in function add>, <built-in function truediv>, <built-in function sub>)\n",
      "(<built-in function add>, <built-in function add>, <built-in function add>, <built-in function truediv>, <built-in function truediv>)\n",
      "(<built-in function add>, <built-in function add>, <built-in function mul>, <built-in function add>, <built-in function add>)\n",
      "(<built-in function add>, <built-in function add>, <built-in function mul>, <built-in function add>, <built-in function mul>)\n",
      "(<built-in function add>, <built-in function add>, <built-in function mul>, <built-in function add>, <built-in function sub>)\n",
      "(<built-in function add>, <built-in function add>, <built-in function mul>, <built-in function add>, <built-in function truediv>)\n",
      "(<built-in function add>, <built-in function add>, <built-in function mul>, <built-in function mul>, <built-in function add>)\n",
      "(<built-in function add>, <built-in function add>, <built-in function mul>, <built-in function mul>, <built-in function mul>)\n",
      "(<built-in function add>, <built-in function add>, <built-in function mul>, <built-in function mul>, <built-in function sub>)\n",
      "(<built-in function add>, <built-in function add>, <built-in function mul>, <built-in function mul>, <built-in function truediv>)\n",
      "(<built-in function add>, <built-in function add>, <built-in function mul>, <built-in function sub>, <built-in function add>)\n",
      "(<built-in function add>, <built-in function add>, <built-in function mul>, <built-in function sub>, <built-in function mul>)\n",
      "(<built-in function add>, <built-in function add>, <built-in function mul>, <built-in function sub>, <built-in function sub>)\n",
      "(<built-in function add>, <built-in function add>, <built-in function mul>, <built-in function sub>, <built-in function truediv>)\n",
      "(<built-in function add>, <built-in function add>, <built-in function mul>, <built-in function truediv>, <built-in function add>)\n",
      "(<built-in function add>, <built-in function add>, <built-in function mul>, <built-in function truediv>, <built-in function mul>)\n",
      "(<built-in function add>, <built-in function add>, <built-in function mul>, <built-in function truediv>, <built-in function sub>)\n",
      "(<built-in function add>, <built-in function add>, <built-in function mul>, <built-in function truediv>, <built-in function truediv>)\n",
      "(<built-in function add>, <built-in function add>, <built-in function sub>, <built-in function add>, <built-in function add>)\n",
      "(<built-in function add>, <built-in function add>, <built-in function sub>, <built-in function add>, <built-in function mul>)\n",
      "(<built-in function add>, <built-in function add>, <built-in function sub>, <built-in function add>, <built-in function sub>)\n",
      "(<built-in function add>, <built-in function add>, <built-in function sub>, <built-in function add>, <built-in function truediv>)\n",
      "(<built-in function add>, <built-in function add>, <built-in function sub>, <built-in function mul>, <built-in function add>)\n",
      "(<built-in function add>, <built-in function add>, <built-in function sub>, <built-in function mul>, <built-in function mul>)\n",
      "(<built-in function add>, <built-in function add>, <built-in function sub>, <built-in function mul>, <built-in function sub>)\n",
      "(<built-in function add>, <built-in function add>, <built-in function sub>, <built-in function mul>, <built-in function truediv>)\n",
      "(<built-in function add>, <built-in function add>, <built-in function sub>, <built-in function sub>, <built-in function add>)\n",
      "(<built-in function add>, <built-in function add>, <built-in function sub>, <built-in function sub>, <built-in function mul>)\n",
      "(<built-in function add>, <built-in function add>, <built-in function sub>, <built-in function sub>, <built-in function sub>)\n",
      "(<built-in function add>, <built-in function add>, <built-in function sub>, <built-in function sub>, <built-in function truediv>)\n",
      "(<built-in function add>, <built-in function add>, <built-in function sub>, <built-in function truediv>, <built-in function add>)\n",
      "(<built-in function add>, <built-in function add>, <built-in function sub>, <built-in function truediv>, <built-in function mul>)\n",
      "(<built-in function add>, <built-in function add>, <built-in function sub>, <built-in function truediv>, <built-in function sub>)\n",
      "(<built-in function add>, <built-in function add>, <built-in function sub>, <built-in function truediv>, <built-in function truediv>)\n",
      "(<built-in function add>, <built-in function add>, <built-in function truediv>, <built-in function add>, <built-in function add>)\n",
      "(<built-in function add>, <built-in function add>, <built-in function truediv>, <built-in function add>, <built-in function mul>)\n",
      "(<built-in function add>, <built-in function add>, <built-in function truediv>, <built-in function add>, <built-in function sub>)\n",
      "(<built-in function add>, <built-in function add>, <built-in function truediv>, <built-in function add>, <built-in function truediv>)\n",
      "(<built-in function add>, <built-in function add>, <built-in function truediv>, <built-in function mul>, <built-in function add>)\n",
      "(<built-in function add>, <built-in function add>, <built-in function truediv>, <built-in function mul>, <built-in function mul>)\n",
      "(<built-in function add>, <built-in function add>, <built-in function truediv>, <built-in function mul>, <built-in function sub>)\n",
      "(<built-in function add>, <built-in function add>, <built-in function truediv>, <built-in function mul>, <built-in function truediv>)\n",
      "(<built-in function add>, <built-in function add>, <built-in function truediv>, <built-in function sub>, <built-in function add>)\n",
      "(<built-in function add>, <built-in function add>, <built-in function truediv>, <built-in function sub>, <built-in function mul>)\n",
      "(<built-in function add>, <built-in function add>, <built-in function truediv>, <built-in function sub>, <built-in function sub>)\n",
      "(<built-in function add>, <built-in function add>, <built-in function truediv>, <built-in function sub>, <built-in function truediv>)\n",
      "(<built-in function add>, <built-in function add>, <built-in function truediv>, <built-in function truediv>, <built-in function add>)\n",
      "(<built-in function add>, <built-in function add>, <built-in function truediv>, <built-in function truediv>, <built-in function mul>)\n",
      "(<built-in function add>, <built-in function add>, <built-in function truediv>, <built-in function truediv>, <built-in function sub>)\n",
      "(<built-in function add>, <built-in function add>, <built-in function truediv>, <built-in function truediv>, <built-in function truediv>)\n",
      "(<built-in function add>, <built-in function mul>, <built-in function add>, <built-in function add>, <built-in function add>)\n",
      "(<built-in function add>, <built-in function mul>, <built-in function add>, <built-in function add>, <built-in function mul>)\n",
      "(<built-in function add>, <built-in function mul>, <built-in function add>, <built-in function add>, <built-in function sub>)\n",
      "(<built-in function add>, <built-in function mul>, <built-in function add>, <built-in function add>, <built-in function truediv>)\n",
      "(<built-in function add>, <built-in function mul>, <built-in function add>, <built-in function mul>, <built-in function add>)\n",
      "(<built-in function add>, <built-in function mul>, <built-in function add>, <built-in function mul>, <built-in function mul>)\n",
      "(<built-in function add>, <built-in function mul>, <built-in function add>, <built-in function mul>, <built-in function sub>)\n",
      "(<built-in function add>, <built-in function mul>, <built-in function add>, <built-in function mul>, <built-in function truediv>)\n",
      "(<built-in function add>, <built-in function mul>, <built-in function add>, <built-in function sub>, <built-in function add>)\n",
      "(<built-in function add>, <built-in function mul>, <built-in function add>, <built-in function sub>, <built-in function mul>)\n",
      "(<built-in function add>, <built-in function mul>, <built-in function add>, <built-in function sub>, <built-in function sub>)\n",
      "(<built-in function add>, <built-in function mul>, <built-in function add>, <built-in function sub>, <built-in function truediv>)\n",
      "(<built-in function add>, <built-in function mul>, <built-in function add>, <built-in function truediv>, <built-in function add>)\n",
      "(<built-in function add>, <built-in function mul>, <built-in function add>, <built-in function truediv>, <built-in function mul>)\n",
      "(<built-in function add>, <built-in function mul>, <built-in function add>, <built-in function truediv>, <built-in function sub>)\n",
      "(<built-in function add>, <built-in function mul>, <built-in function add>, <built-in function truediv>, <built-in function truediv>)\n",
      "(<built-in function add>, <built-in function mul>, <built-in function mul>, <built-in function add>, <built-in function add>)\n",
      "(<built-in function add>, <built-in function mul>, <built-in function mul>, <built-in function add>, <built-in function mul>)\n",
      "(<built-in function add>, <built-in function mul>, <built-in function mul>, <built-in function add>, <built-in function sub>)\n",
      "(<built-in function add>, <built-in function mul>, <built-in function mul>, <built-in function add>, <built-in function truediv>)\n",
      "(<built-in function add>, <built-in function mul>, <built-in function mul>, <built-in function mul>, <built-in function add>)\n",
      "(<built-in function add>, <built-in function mul>, <built-in function mul>, <built-in function mul>, <built-in function mul>)\n",
      "(<built-in function add>, <built-in function mul>, <built-in function mul>, <built-in function mul>, <built-in function sub>)\n",
      "(<built-in function add>, <built-in function mul>, <built-in function mul>, <built-in function mul>, <built-in function truediv>)\n",
      "(<built-in function add>, <built-in function mul>, <built-in function mul>, <built-in function sub>, <built-in function add>)\n",
      "(<built-in function add>, <built-in function mul>, <built-in function mul>, <built-in function sub>, <built-in function mul>)\n",
      "(<built-in function add>, <built-in function mul>, <built-in function mul>, <built-in function sub>, <built-in function sub>)\n",
      "(<built-in function add>, <built-in function mul>, <built-in function mul>, <built-in function sub>, <built-in function truediv>)\n",
      "(<built-in function add>, <built-in function mul>, <built-in function mul>, <built-in function truediv>, <built-in function add>)\n",
      "(<built-in function add>, <built-in function mul>, <built-in function mul>, <built-in function truediv>, <built-in function mul>)\n",
      "(<built-in function add>, <built-in function mul>, <built-in function mul>, <built-in function truediv>, <built-in function sub>)\n",
      "(<built-in function add>, <built-in function mul>, <built-in function mul>, <built-in function truediv>, <built-in function truediv>)\n",
      "(<built-in function add>, <built-in function mul>, <built-in function sub>, <built-in function add>, <built-in function add>)\n",
      "(<built-in function add>, <built-in function mul>, <built-in function sub>, <built-in function add>, <built-in function mul>)\n",
      "(<built-in function add>, <built-in function mul>, <built-in function sub>, <built-in function add>, <built-in function sub>)\n",
      "(<built-in function add>, <built-in function mul>, <built-in function sub>, <built-in function add>, <built-in function truediv>)\n"
     ]
    }
   ],
   "source": [
    "# Using product to generate all lists of five operations.\n",
    "ops = [operator.add, operator.mul, operator.sub, operator.truediv]\n",
    "limit = 100\n",
    "for q in it.product(ops, repeat=5):\n",
    "  if limit == 0:\n",
    "    break\n",
    "  print(q)\n",
    "  limit = limit - 1"
   ]
  },
  {
   "cell_type": "code",
   "execution_count": null,
   "id": "4b5747db-2ce1-4a1d-9f06-265695879bdc",
   "metadata": {},
   "outputs": [],
   "source": []
  }
 ],
 "metadata": {
  "kernelspec": {
   "display_name": "Python 3",
   "language": "python",
   "name": "python3"
  },
  "language_info": {
   "codemirror_mode": {
    "name": "ipython",
    "version": 3
   },
   "file_extension": ".py",
   "mimetype": "text/x-python",
   "name": "python",
   "nbconvert_exporter": "python",
   "pygments_lexer": "ipython3",
   "version": "3.8.8"
  }
 },
 "nbformat": 4,
 "nbformat_minor": 5
}

{
 "cells": [
  {
   "cell_type": "code",
   "execution_count": 1,
   "id": "452c14f3",
   "metadata": {},
   "outputs": [],
   "source": [
    "# Permutations and combinations.\n",
    "import itertools as it"
   ]
  },
  {
   "cell_type": "code",
   "execution_count": 2,
   "id": "04861357",
   "metadata": {},
   "outputs": [],
   "source": [
    "# Random number generation.\n",
    "import random"
   ]
  },
  {
   "cell_type": "code",
   "execution_count": 3,
   "id": "c77c44df",
   "metadata": {},
   "outputs": [],
   "source": [
    "# Operators as functions.\n",
    "import operator"
   ]
  },
  {
   "cell_type": "markdown",
   "id": "eea5a0d5",
   "metadata": {},
   "source": [
    "## Simulate a Countdown numbers game"
   ]
  },
  {
   "cell_type": "code",
   "execution_count": 4,
   "id": "0f04e84c",
   "metadata": {},
   "outputs": [
    {
     "data": {
      "text/plain": [
       "[25, 50, 75, 100]"
      ]
     },
     "execution_count": 4,
     "metadata": {},
     "output_type": "execute_result"
    }
   ],
   "source": [
    "# The large numbers.\n",
    "large = [25, 50, 75, 100]\n",
    "large"
   ]
  },
  {
   "cell_type": "code",
   "execution_count": 5,
   "id": "5487a5c4",
   "metadata": {},
   "outputs": [
    {
     "data": {
      "text/plain": [
       "[1, 1, 2, 2, 3, 3, 4, 4, 5, 5, 6, 6, 7, 7, 8, 8, 9, 9, 10, 10]"
      ]
     },
     "execution_count": 5,
     "metadata": {},
     "output_type": "execute_result"
    }
   ],
   "source": [
    "# The small numbers.\n",
    "small = sorted(list(range(1, 11)) * 2)\n",
    "small"
   ]
  },
  {
   "cell_type": "code",
   "execution_count": 6,
   "id": "91b1afd1",
   "metadata": {},
   "outputs": [
    {
     "data": {
      "text/plain": [
       "3"
      ]
     },
     "execution_count": 6,
     "metadata": {},
     "output_type": "execute_result"
    }
   ],
   "source": [
    "# The number of large numbers to pick - between 0 and 4 inclusive.\n",
    "no_large = random.randrange(0, 5)\n",
    "no_large"
   ]
  },
  {
   "cell_type": "code",
   "execution_count": 7,
   "id": "b99fd59c",
   "metadata": {},
   "outputs": [
    {
     "data": {
      "text/plain": [
       "[100, 75, 50]"
      ]
     },
     "execution_count": 7,
     "metadata": {},
     "output_type": "execute_result"
    }
   ],
   "source": [
    "# Select no_large large numbers at random.\n",
    "large_rand = random.sample(large, no_large)\n",
    "large_rand"
   ]
  },
  {
   "cell_type": "code",
   "execution_count": 8,
   "id": "5121774c",
   "metadata": {},
   "outputs": [
    {
     "data": {
      "text/plain": [
       "[9, 5, 3]"
      ]
     },
     "execution_count": 8,
     "metadata": {},
     "output_type": "execute_result"
    }
   ],
   "source": [
    "# Select (6 - no_large) small numbers at random.\n",
    "small_rand = random.sample(small, 6 - no_large)\n",
    "small_rand"
   ]
  },
  {
   "cell_type": "code",
   "execution_count": 9,
   "id": "7b3d5d10",
   "metadata": {},
   "outputs": [
    {
     "data": {
      "text/plain": [
       "[100, 75, 50, 9, 5, 3]"
      ]
     },
     "execution_count": 9,
     "metadata": {},
     "output_type": "execute_result"
    }
   ],
   "source": [
    "# The six random numbers in a list.\n",
    "play_nos = large_rand + small_rand\n",
    "play_nos"
   ]
  },
  {
   "cell_type": "code",
   "execution_count": 10,
   "id": "5cd59543",
   "metadata": {},
   "outputs": [
    {
     "data": {
      "text/plain": [
       "159"
      ]
     },
     "execution_count": 10,
     "metadata": {},
     "output_type": "execute_result"
    }
   ],
   "source": [
    "# Pick a random target number.\n",
    "target = random.randrange(101, 1000)\n",
    "target"
   ]
  },
  {
   "cell_type": "code",
   "execution_count": 11,
   "id": "81647dfe",
   "metadata": {},
   "outputs": [],
   "source": [
    "# All in one function.\n",
    "\n",
    "# For random nubmers and samples.\n",
    "import random\n",
    "\n",
    "def new_numbers_game(no_large=None):\n",
    "  \"\"\" Returns six numbers and a target number representing a Countdown numbers game.\n",
    "  \"\"\"\n",
    "  # If no_large in None, randomly pick value between 0 and 4 inclusive.\n",
    "  if no_large is None:\n",
    "    # Randomly set the value.\n",
    "    no_large = random.randrange(0, 5)\n",
    "  \n",
    "  # Select random large numbers.\n",
    "  large_rand = random.sample([25, 50, 75, 100], no_large)\n",
    "  # Select random small numbers.\n",
    "  small_rand = random.sample(list(range(1, 11)) * 2, 6 - no_large)\n",
    "  # The playing numbers.\n",
    "  play_nos = large_rand + small_rand\n",
    "\n",
    "  # Select a target number.\n",
    "  target = random.randrange(101, 1000)\n",
    "\n",
    "  # Return the game.\n",
    "  return play_nos, target"
   ]
  },
  {
   "cell_type": "code",
   "execution_count": 12,
   "id": "994f9ab8",
   "metadata": {},
   "outputs": [
    {
     "data": {
      "text/plain": [
       "([10, 5, 7, 9, 4, 2], 558)"
      ]
     },
     "execution_count": 12,
     "metadata": {},
     "output_type": "execute_result"
    }
   ],
   "source": [
    "# Random nubmers game.\n",
    "new_numbers_game()"
   ]
  },
  {
   "cell_type": "code",
   "execution_count": null,
   "id": "5b0f8775",
   "metadata": {},
   "outputs": [],
   "source": []
  }
 ],
 "metadata": {
  "kernelspec": {
   "display_name": "Python 3",
   "language": "python",
   "name": "python3"
  },
  "language_info": {
   "codemirror_mode": {
    "name": "ipython",
    "version": 3
   },
   "file_extension": ".py",
   "mimetype": "text/x-python",
   "name": "python",
   "nbconvert_exporter": "python",
   "pygments_lexer": "ipython3",
   "version": "3.8.8"
  }
 },
 "nbformat": 4,
 "nbformat_minor": 5
}

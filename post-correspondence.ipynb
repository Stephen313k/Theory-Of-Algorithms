{
 "cells": [
  {
   "cell_type": "markdown",
   "id": "522132a8-7136-425d-a75d-918d203f2521",
   "metadata": {},
   "source": [
    " # The Post Correspondence Problem "
   ]
  },
  {
   "cell_type": "markdown",
   "id": "f2d2f180-20d8-4194-ab73-c446563ff694",
   "metadata": {},
   "source": [
    "<img src=\"labs/img/pcp.PNG\">\n",
    "img source: https://slideplayer.com/slide/3264410/"
   ]
  },
  {
   "cell_type": "markdown",
   "id": "a4c68007-27f2-4689-965e-eb437f780f74",
   "metadata": {},
   "source": [
    "### Definition and Explanation"
   ]
  },
  {
   "cell_type": "markdown",
   "id": "f72206e2-be41-45fd-82ab-151c69181c9a",
   "metadata": {},
   "source": [
    "#### Post Correspondence Problem"
   ]
  },
  {
   "cell_type": "markdown",
   "id": "1e789058-2611-41f4-bc73-f1eb9e99b3d8",
   "metadata": {},
   "source": [
    "The post correspondence problem is a popular undecideable decision problem that was introduced by Emil Leon Post (1946). The aim is to find out the concatenation of two lists in a sequence that return the same result."
   ]
  },
  {
   "cell_type": "markdown",
   "id": "3fc3a253-d259-4d13-8365-01027b17a655",
   "metadata": {},
   "source": [
    "#### The Issue"
   ]
  },
  {
   "cell_type": "markdown",
   "id": "1289a774-1b4d-49de-8402-c0be13e6afd4",
   "metadata": {},
   "source": [
    "In this problem there are two lists, each item may be represented as <strong>N</strong>. The goal is to find out concatentation of the result in a sequenece that outputs the same result for both lists."
   ]
  },
  {
   "cell_type": "markdown",
   "id": "1d9f9e37-5a05-473b-a08c-8f2fc141c4bc",
   "metadata": {},
   "source": [
    "An instance of the Post Correspondence problem is given by two sequences<br>\n",
    "<b> U = (u1, . . . , um) </b> and <b> V = (v1, . . . , vm)</b>, of strings  <br>\n",
    "<b>ui, vi ∈ Σ∗</b><br>\n",
    "The problem is to find whether there is a (finite) sequence <br>\n",
    "<b>(i1, . . . , ip), with ij ∈ {1, . . . , m}</b><br>\n",
    "So that<br>\n",
    "<b>ui1 ui2 · · · uip = vi1 vi2 · · · vip</b><br>\n",
    "Post Correspondence Problem is a sequence of pairs<br>\n",
    "<img src=\"labs/img/pairs.PNG\">"
   ]
  },
  {
   "cell_type": "markdown",
   "id": "1041eaef-15e7-45e9-9e83-7e96f7352f67",
   "metadata": {},
   "source": [
    "#### Solution"
   ]
  },
  {
   "cell_type": "markdown",
   "id": "88cbc81e-0baa-4b13-a250-bc2a4f21686b",
   "metadata": {},
   "source": [
    "Python functions to solve the Post Correspondence Problem"
   ]
  },
  {
   "cell_type": "code",
   "execution_count": 259,
   "id": "096d2495-acd2-4585-b2ad-1d84c483f16f",
   "metadata": {},
   "outputs": [],
   "source": [
    "# list 1\n",
    "L1 = ['a', 'ab', 'bba']\n",
    "# list 2\n",
    "L2 = ['baa', 'aa', 'bb']"
   ]
  },
  {
   "cell_type": "markdown",
   "id": "dbfe6f37-0f92-4478-9eb7-f1ca8fd0288a",
   "metadata": {},
   "source": [
    "The lists above have different values, but the same characters. A solution would be using a sequence of indices <strong>S</strong>."
   ]
  },
  {
   "cell_type": "code",
   "execution_count": 260,
   "id": "b54d908b-5cd9-4d90-9165-44f8bca1ad50",
   "metadata": {},
   "outputs": [],
   "source": [
    "# Using sequence for the lists\n",
    "S = [2, 1, 2, 0]"
   ]
  },
  {
   "cell_type": "code",
   "execution_count": 261,
   "id": "bac8f6e0-ad63-4799-b6cb-0b7a00941e3a",
   "metadata": {},
   "outputs": [],
   "source": [
    "# solution to each list, joining in concatation and looping through the lists\n",
    "def apply(S, L):\n",
    "    S_on_L = [''.join(L[i]) for i in S]\n",
    "    return ''.join(S_on_L)"
   ]
  },
  {
   "cell_type": "code",
   "execution_count": 262,
   "id": "987e484b-420d-4b8c-8eca-19cb66ec3f56",
   "metadata": {},
   "outputs": [
    {
     "data": {
      "text/plain": [
       "'bbaabbbaa'"
      ]
     },
     "execution_count": 262,
     "metadata": {},
     "output_type": "execute_result"
    }
   ],
   "source": [
    "# use the above method  and apply S to L1\n",
    "apply(S, L1)"
   ]
  },
  {
   "cell_type": "code",
   "execution_count": 263,
   "id": "94f210a3-f734-4a90-b8c4-6bd4afcb3928",
   "metadata": {},
   "outputs": [
    {
     "data": {
      "text/plain": [
       "'bbaabbbaa'"
      ]
     },
     "execution_count": 263,
     "metadata": {},
     "output_type": "execute_result"
    }
   ],
   "source": [
    "# do the same for the second list\n",
    "apply(S, L2)"
   ]
  },
  {
   "cell_type": "code",
   "execution_count": 264,
   "id": "18dbdce2-ee89-4fe8-8e40-66a4580c538a",
   "metadata": {},
   "outputs": [
    {
     "data": {
      "text/plain": [
       "True"
      ]
     },
     "execution_count": 264,
     "metadata": {},
     "output_type": "execute_result"
    }
   ],
   "source": [
    "#applying S to L1, and L2 achieve the same output, this can be verified\n",
    "apply(S, L1) == apply(S, L2)"
   ]
  },
  {
   "cell_type": "markdown",
   "id": "343fd84a-7c1c-470f-83d6-dc76b6582711",
   "metadata": {},
   "source": [
    "<i>As seen above both lists correspond with another</i>"
   ]
  },
  {
   "cell_type": "markdown",
   "id": "dc5f60cd-2fbd-4f8b-804f-3c5adf37a3ad",
   "metadata": {},
   "source": [
    "##### An example of no correspondece"
   ]
  },
  {
   "cell_type": "code",
   "execution_count": 265,
   "id": "3731f27b-7837-4acd-b8b6-6883cda97f1e",
   "metadata": {},
   "outputs": [],
   "source": [
    "# first list\n",
    "L1a = ['ab', 'bba']"
   ]
  },
  {
   "cell_type": "code",
   "execution_count": 266,
   "id": "e35c0530-82dd-4021-902e-2f8dcd5f1134",
   "metadata": {},
   "outputs": [],
   "source": [
    "# second list\n",
    "L2a = ['aa', 'bb']"
   ]
  },
  {
   "cell_type": "markdown",
   "id": "8b5f0a73-8029-4638-96d3-d37d98300d27",
   "metadata": {},
   "source": [
    "<strong>S</strong> is undefined"
   ]
  },
  {
   "cell_type": "markdown",
   "id": "c3a90c8b-edb3-4bfe-b467-613dba7390cc",
   "metadata": {},
   "source": [
    "In this example <strong>S</strong> is an infinite length. There are an infite amount of possibilities that can be arranged for the solution, however without <strong>S</strong> being applied to the lists as the first example then there is no proof that the lists correspond with another."
   ]
  },
  {
   "cell_type": "markdown",
   "id": "1a12cfdb-b414-4884-9e14-c46c9239d67c",
   "metadata": {},
   "source": [
    "#### Bounded Post Correspondence Problem"
   ]
  },
  {
   "cell_type": "markdown",
   "id": "8a20c6c6-92fc-4251-990e-ee6dc7701507",
   "metadata": {},
   "source": [
    "The Bounded Post Correspondence Problem is a variant of the Post Corresponce mentioned above. The Bounded Post Correspondence Problem <strong>is</strong> a <strong>decidable</strong> problem, unlike the Post Correspondece Problem. The problem limits the length used in indices of <strong>K</strong> tiles. The indices of <strong>S</strong> has a finite number of possibilities. This allows us to define if correspondence is present in a solution."
   ]
  },
  {
   "cell_type": "code",
   "execution_count": 310,
   "id": "0b174fe2-6822-40a9-84a5-3aa269c410cd",
   "metadata": {},
   "outputs": [],
   "source": [
    "#"
   ]
  },
  {
   "cell_type": "markdown",
   "id": "98349bec-1987-4378-9ce7-3b9eb37bf89b",
   "metadata": {},
   "source": [
    "The above image shows that <strong>S</strong> cannot have any more than K elements. There is a vast amount of combinations between the two elements; a brute force algorithm could be implemented to define if correspondence is present in the lists of <strong>S</strong> and <strong>K</strong> elements."
   ]
  },
  {
   "cell_type": "markdown",
   "id": "b2387903-467e-4111-904e-44af7355f522",
   "metadata": {},
   "source": [
    "#### Solution"
   ]
  },
  {
   "cell_type": "markdown",
   "id": "4f1fb689-24f7-427d-a9fa-e33af1a24217",
   "metadata": {},
   "source": [
    "Python functions to solve the Bounded Post Correspondence Problem"
   ]
  },
  {
   "cell_type": "code",
   "execution_count": 267,
   "id": "9bf6ad42-7acc-4e94-96e5-7e5dc34615fa",
   "metadata": {},
   "outputs": [],
   "source": [
    "import itertools as it"
   ]
  },
  {
   "cell_type": "code",
   "execution_count": 268,
   "id": "a69dbd4f-612c-4e82-8e8d-903b334af857",
   "metadata": {},
   "outputs": [
    {
     "name": "stdout",
     "output_type": "stream",
     "text": [
      "(0,)\n",
      "(1,)\n",
      "(0, 0)\n",
      "(0, 1)\n",
      "(1, 0)\n",
      "(1, 1)\n",
      "(0, 0, 0)\n",
      "(0, 0, 1)\n",
      "(0, 1, 0)\n",
      "(0, 1, 1)\n",
      "(1, 0, 0)\n",
      "(1, 0, 1)\n",
      "(1, 1, 0)\n",
      "(1, 1, 1)\n",
      "(0, 0, 0, 0)\n",
      "(0, 0, 0, 1)\n",
      "(0, 0, 1, 0)\n",
      "(0, 0, 1, 1)\n",
      "(0, 1, 0, 0)\n",
      "(0, 1, 0, 1)\n",
      "(0, 1, 1, 0)\n",
      "(0, 1, 1, 1)\n",
      "(1, 0, 0, 0)\n",
      "(1, 0, 0, 1)\n",
      "(1, 0, 1, 0)\n",
      "(1, 0, 1, 1)\n",
      "(1, 1, 0, 0)\n",
      "(1, 1, 0, 1)\n",
      "(1, 1, 1, 0)\n",
      "(1, 1, 1, 1)\n"
     ]
    }
   ],
   "source": [
    "# The bound for the bounded problem.\n",
    "\n",
    "# The generators.\n",
    "gens = []\n",
    "# Loop through all possible solutions.\n",
    "for i in range(1, K+1):\n",
    "    # Create a generator for solutions of length i, append it to gens.\n",
    "    gens.append(it.product(*([range(len(L2a))] * i)))\n",
    "\n",
    "# it.chain just chains generators together.\n",
    "for solution in it.chain(*gens):\n",
    "  print(solution)\n"
   ]
  },
  {
   "cell_type": "code",
   "execution_count": 269,
   "id": "714d3f67-1408-474f-b690-8aa492a39065",
   "metadata": {},
   "outputs": [],
   "source": [
    "# Carestian product of a list\n",
    "def cartesian_product(l, k):\n",
    "    List = []\n",
    "    for i in range(1, k + 1):\n",
    "        for product in it.product(l, repeat = i):\n",
    "            List.append(''.join(product))\n",
    "    return List"
   ]
  },
  {
   "cell_type": "code",
   "execution_count": 270,
   "id": "b3264605-54dc-46a3-9bc8-1a0120ff48c8",
   "metadata": {},
   "outputs": [
    {
     "name": "stdout",
     "output_type": "stream",
     "text": [
      "['a', 'ab', 'bba', 'aa', 'aab', 'abba', 'aba', 'abab', 'abbba', 'bbaa', 'bbaab', 'bbabba', 'aaa', 'aaab', 'aabba', 'aaba', 'aabab', 'aabbba', 'abbaa', 'abbaab', 'abbabba', 'abaa', 'abaab', 'ababba', 'ababa', 'ababab', 'ababbba', 'abbbaa', 'abbbaab', 'abbbabba', 'bbaaa', 'bbaaab', 'bbaabba', 'bbaaba', 'bbaabab', 'bbaabbba', 'bbabbaa', 'bbabbaab', 'bbabbabba', 'aaaa', 'aaaab', 'aaabba', 'aaaba', 'aaabab', 'aaabbba', 'aabbaa', 'aabbaab', 'aabbabba', 'aabaa', 'aabaab', 'aababba', 'aababa', 'aababab', 'aababbba', 'aabbbaa', 'aabbbaab', 'aabbbabba', 'abbaaa', 'abbaaab', 'abbaabba', 'abbaaba', 'abbaabab', 'abbaabbba', 'abbabbaa', 'abbabbaab', 'abbabbabba', 'abaaa', 'abaaab', 'abaabba', 'abaaba', 'abaabab', 'abaabbba', 'ababbaa', 'ababbaab', 'ababbabba', 'ababaa', 'ababaab', 'abababba', 'abababa', 'abababab', 'abababbba', 'ababbbaa', 'ababbbaab', 'ababbbabba', 'abbbaaa', 'abbbaaab', 'abbbaabba', 'abbbaaba', 'abbbaabab', 'abbbaabbba', 'abbbabbaa', 'abbbabbaab', 'abbbabbabba', 'bbaaaa', 'bbaaaab', 'bbaaabba', 'bbaaaba', 'bbaaabab', 'bbaaabbba', 'bbaabbaa', 'bbaabbaab', 'bbaabbabba', 'bbaabaa', 'bbaabaab', 'bbaababba', 'bbaababa', 'bbaababab', 'bbaababbba', 'bbaabbbaa', 'bbaabbbaab', 'bbaabbbabba', 'bbabbaaa', 'bbabbaaab', 'bbabbaabba', 'bbabbaaba', 'bbabbaabab', 'bbabbaabbba', 'bbabbabbaa', 'bbabbabbaab', 'bbabbabbabba']\n"
     ]
    }
   ],
   "source": [
    "print(cartesian_product(L1, 4))"
   ]
  },
  {
   "cell_type": "code",
   "execution_count": 271,
   "id": "8b8f45b4-de5b-4c33-9ecc-4f7a57c0b9ed",
   "metadata": {},
   "outputs": [
    {
     "name": "stdout",
     "output_type": "stream",
     "text": [
      "['baa', 'aa', 'bb', 'baabaa', 'baaaa', 'baabb', 'aabaa', 'aaaa', 'aabb', 'bbbaa', 'bbaa', 'bbbb', 'baabaabaa', 'baabaaaa', 'baabaabb', 'baaaabaa', 'baaaaaa', 'baaaabb', 'baabbbaa', 'baabbaa', 'baabbbb', 'aabaabaa', 'aabaaaa', 'aabaabb', 'aaaabaa', 'aaaaaa', 'aaaabb', 'aabbbaa', 'aabbaa', 'aabbbb', 'bbbaabaa', 'bbbaaaa', 'bbbaabb', 'bbaabaa', 'bbaaaa', 'bbaabb', 'bbbbbaa', 'bbbbaa', 'bbbbbb', 'baabaabaabaa', 'baabaabaaaa', 'baabaabaabb', 'baabaaaabaa', 'baabaaaaaa', 'baabaaaabb', 'baabaabbbaa', 'baabaabbaa', 'baabaabbbb', 'baaaabaabaa', 'baaaabaaaa', 'baaaabaabb', 'baaaaaabaa', 'baaaaaaaa', 'baaaaaabb', 'baaaabbbaa', 'baaaabbaa', 'baaaabbbb', 'baabbbaabaa', 'baabbbaaaa', 'baabbbaabb', 'baabbaabaa', 'baabbaaaa', 'baabbaabb', 'baabbbbbaa', 'baabbbbaa', 'baabbbbbb', 'aabaabaabaa', 'aabaabaaaa', 'aabaabaabb', 'aabaaaabaa', 'aabaaaaaa', 'aabaaaabb', 'aabaabbbaa', 'aabaabbaa', 'aabaabbbb', 'aaaabaabaa', 'aaaabaaaa', 'aaaabaabb', 'aaaaaabaa', 'aaaaaaaa', 'aaaaaabb', 'aaaabbbaa', 'aaaabbaa', 'aaaabbbb', 'aabbbaabaa', 'aabbbaaaa', 'aabbbaabb', 'aabbaabaa', 'aabbaaaa', 'aabbaabb', 'aabbbbbaa', 'aabbbbaa', 'aabbbbbb', 'bbbaabaabaa', 'bbbaabaaaa', 'bbbaabaabb', 'bbbaaaabaa', 'bbbaaaaaa', 'bbbaaaabb', 'bbbaabbbaa', 'bbbaabbaa', 'bbbaabbbb', 'bbaabaabaa', 'bbaabaaaa', 'bbaabaabb', 'bbaaaabaa', 'bbaaaaaa', 'bbaaaabb', 'bbaabbbaa', 'bbaabbaa', 'bbaabbbb', 'bbbbbaabaa', 'bbbbbaaaa', 'bbbbbaabb', 'bbbbaabaa', 'bbbbaaaa', 'bbbbaabb', 'bbbbbbbaa', 'bbbbbbaa', 'bbbbbbbb']\n"
     ]
    }
   ],
   "source": [
    "print(cartesian_product(L2, 4))"
   ]
  },
  {
   "cell_type": "code",
   "execution_count": 272,
   "id": "7e884d9f-cb1f-49b3-bdab-c8beca783ef1",
   "metadata": {},
   "outputs": [],
   "source": [
    "# Lists to be tested.\n",
    "L3 = ['aa', 'bb', 'abb']\n",
    "L4 = ['aab', 'ba', 'b']"
   ]
  },
  {
   "cell_type": "code",
   "execution_count": 302,
   "id": "9c079af8-77fe-4cb3-8a75-968c1427788a",
   "metadata": {},
   "outputs": [],
   "source": [
    "# Method for correspondence\n",
    "def correspond(L1, L2, K):\n",
    "    # Are the lengths of the list the same\n",
    "    if len(L1) != len(L2):\n",
    "        return False\n",
    "    # Loops over the cartesian product for both lists\n",
    "    for l1, l2 in zip(cartesian_product(L1,K), cartesian_product(L2,K)):\n",
    "        # if the lists match in concatation then its true\n",
    "        if l1 == l2:\n",
    "            print(\"Solution is true \")\n",
    "            print(\"Both lists: \")\n",
    "            print(l1, l2)\n",
    "            print(\"max length: \")\n",
    "            print(K)\n",
    "            return True\n",
    "        # If not, return false and print\n",
    "    print(\"Solution is false\")\n",
    "    print(\"max length: \")\n",
    "    print(K)\n",
    "\n",
    "    return False"
   ]
  },
  {
   "cell_type": "code",
   "execution_count": 303,
   "id": "b995bced-c2f6-45f1-bf79-d87ba06a533b",
   "metadata": {},
   "outputs": [],
   "source": [
    "#  Solver for the bounded post correspondence problem \n",
    "def bpcp_solver(L1, L2, k):\n",
    "    if correspond(L1, L2, k):\n",
    "        return True\n",
    "    else:\n",
    "        return False\n"
   ]
  },
  {
   "cell_type": "markdown",
   "id": "3313235d-5599-484e-904b-d0414c2d9cd4",
   "metadata": {},
   "source": [
    "This takes in two lists and checks the correspondece with S having a max length of K. In the example below where the max length in 4; correspondece is present in this equation"
   ]
  },
  {
   "cell_type": "code",
   "execution_count": 304,
   "id": "3136224a-1deb-4595-8dc9-80bc8049cd74",
   "metadata": {},
   "outputs": [
    {
     "name": "stdout",
     "output_type": "stream",
     "text": [
      "Solution is true \n",
      "Both lists: \n",
      "bbaabbbaa bbaabbbaa\n",
      "max length: \n",
      "4\n",
      "True\n"
     ]
    }
   ],
   "source": [
    "print(bpcp_solver(l1, l2, 4))"
   ]
  },
  {
   "cell_type": "code",
   "execution_count": 305,
   "id": "41dd0fd3-52ca-4a13-9c4d-17efeb865158",
   "metadata": {},
   "outputs": [
    {
     "name": "stdout",
     "output_type": "stream",
     "text": [
      "Solution is false\n",
      "max length: \n",
      "3\n"
     ]
    },
    {
     "data": {
      "text/plain": [
       "False"
      ]
     },
     "execution_count": 305,
     "metadata": {},
     "output_type": "execute_result"
    }
   ],
   "source": [
    "bpcp_solver(l1, l2, 3)"
   ]
  },
  {
   "cell_type": "code",
   "execution_count": 306,
   "id": "d876e0b7-9da3-49f9-8956-8b17a9a1782b",
   "metadata": {},
   "outputs": [
    {
     "name": "stdout",
     "output_type": "stream",
     "text": [
      "Solution is true \n",
      "Both lists: \n",
      "a a\n",
      "max length: \n",
      "4\n"
     ]
    },
    {
     "data": {
      "text/plain": [
       "True"
      ]
     },
     "execution_count": 306,
     "metadata": {},
     "output_type": "execute_result"
    }
   ],
   "source": [
    "bpcp_solver(l1, l1, 4)"
   ]
  },
  {
   "cell_type": "markdown",
   "id": "1be4df06-9878-462e-a3dc-0defb242a2da",
   "metadata": {},
   "source": [
    "More examples, testing with a max length of 3 and 4. returns false and true"
   ]
  },
  {
   "cell_type": "code",
   "execution_count": 307,
   "id": "a51d6a83-57bc-4fd9-bf49-b4c374793d62",
   "metadata": {},
   "outputs": [
    {
     "name": "stdout",
     "output_type": "stream",
     "text": [
      "Solution is false\n",
      "max length: \n",
      "3\n"
     ]
    },
    {
     "data": {
      "text/plain": [
       "False"
      ]
     },
     "execution_count": 307,
     "metadata": {},
     "output_type": "execute_result"
    }
   ],
   "source": [
    "bpcp_solver(L3, L4, 3)"
   ]
  },
  {
   "cell_type": "markdown",
   "id": "1ec4b87e-407f-4636-a4f3-a0304f5f13d2",
   "metadata": {},
   "source": [
    "bpcp_solver(L3, L4, 4)"
   ]
  },
  {
   "cell_type": "markdown",
   "id": "24656f94-22eb-4b26-bc0e-656af188ac9c",
   "metadata": {},
   "source": [
    "## Undecidable Problems\n"
   ]
  },
  {
   "cell_type": "markdown",
   "id": "e3d4f43b-f19b-4918-9229-a2959ea82362",
   "metadata": {},
   "source": [
    "#### What is it?"
   ]
  },
  {
   "cell_type": "markdown",
   "id": "0509d47a-5c46-4189-a79f-81389ed11f92",
   "metadata": {},
   "source": [
    "A decision problem has \"yes\" or \"no\" answers, but yet no algorithm exists that can answer correctly on all inputs. It is undecible if there is not an existing algorithm to solve it. These problems we can't construct an algorithm for are termed as Undecidable Problems in the theory of computation. \n"
   ]
  },
  {
   "cell_type": "markdown",
   "id": "c21fbdb7-e9a5-463d-bde1-23c1e0638bb0",
   "metadata": {},
   "source": [
    "#### Examples"
   ]
  },
  {
   "cell_type": "markdown",
   "id": "6eb6fc6d-1367-493d-8813-39b0e6592553",
   "metadata": {},
   "source": [
    "##### <strong>Halting Problem</strong>"
   ]
  },
  {
   "cell_type": "markdown",
   "id": "8f33babe-fb6c-428b-b862-baa2fbb1d226",
   "metadata": {},
   "source": [
    "Alan Turning proved in 1936 with the Turning machine that the halting problem for all possible program-input pairs necessarily cannot exist; the halting problem is an example of an undecidable problem. \n",
    "\n",
    "The Halting Problem:\n",
    "Given a program <strong>P</strong> and an input <strong>I</strong>, will <strong>P</strong> halt on <strong>I</strong>?\n",
    "\n",
    "An algorithm does not exist that can solve every program <strong>P</strong> and input <strong>I</strong>.\n"
   ]
  },
  {
   "cell_type": "markdown",
   "id": "ca7a3a2b-a4c4-4e03-8484-200f422759ba",
   "metadata": {},
   "source": [
    "##### <strong>Post Correspondece Problem </strong>"
   ]
  },
  {
   "cell_type": "markdown",
   "id": "8d1ea0df-125e-4086-a49c-a81e5f4f4dd5",
   "metadata": {},
   "source": [
    "The Post Correspondence Problem is undecible as discussed in the notebook. Similar to the Halting Problem there is no algorithm that solves the issue without knowing every single input list <strong>S</strong>.\n",
    "\n",
    "<strong>S</strong> can extend infinitely, this will cause the algorithm to stay in an infinite loop. The reason why the Bounded Post Correspondece Problem is able to return a decidable answer is because it is finite, where as the original undecidable problem is infinite.\n",
    "\n",
    "We are able to reduce the Turing Machine (undecidable problem) to the Post Correspondece Problem that proves it is undecidable as well."
   ]
  },
  {
   "cell_type": "code",
   "execution_count": null,
   "id": "00a88952-a899-4e9c-a013-e4f20f4b2083",
   "metadata": {},
   "outputs": [],
   "source": []
  },
  {
   "cell_type": "markdown",
   "id": "d4b2145c-254b-47f0-a79a-926b48937aae",
   "metadata": {},
   "source": [
    "## END"
   ]
  },
  {
   "cell_type": "code",
   "execution_count": null,
   "id": "b0580420-ef18-4886-95f3-5484887230ed",
   "metadata": {},
   "outputs": [],
   "source": []
  }
 ],
 "metadata": {
  "kernelspec": {
   "display_name": "Python 3",
   "language": "python",
   "name": "python3"
  },
  "language_info": {
   "codemirror_mode": {
    "name": "ipython",
    "version": 3
   },
   "file_extension": ".py",
   "mimetype": "text/x-python",
   "name": "python",
   "nbconvert_exporter": "python",
   "pygments_lexer": "ipython3",
   "version": "3.8.8"
  }
 },
 "nbformat": 4,
 "nbformat_minor": 5
}

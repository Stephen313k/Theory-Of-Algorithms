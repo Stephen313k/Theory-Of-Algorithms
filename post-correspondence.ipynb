{
 "cells": [
  {
   "cell_type": "markdown",
   "id": "522132a8-7136-425d-a75d-918d203f2521",
   "metadata": {},
   "source": [
    " # The Post Correspondence Problem "
   ]
  },
  {
   "cell_type": "markdown",
   "id": "1e789058-2611-41f4-bc73-f1eb9e99b3d8",
   "metadata": {},
   "source": [
    "The post correspondence problem is a popular undecideable decision problem that was introduced by Emil Leon Post (1946)."
   ]
  },
  {
   "cell_type": "markdown",
   "id": "3fc3a253-d259-4d13-8365-01027b17a655",
   "metadata": {},
   "source": [
    "### The Issue"
   ]
  },
  {
   "cell_type": "markdown",
   "id": "1289a774-1b4d-49de-8402-c0be13e6afd4",
   "metadata": {},
   "source": [
    "In this problem there are two lists, each item may be represented as N. The goal is to find out concatentation of the result in a sequenece that outputs the same result for both lists."
   ]
  },
  {
   "cell_type": "code",
   "execution_count": 1,
   "id": "096d2495-acd2-4585-b2ad-1d84c483f16f",
   "metadata": {},
   "outputs": [],
   "source": [
    "# list 1\n",
    "L1 = ['a', 'ab', 'bba']\n",
    "# list 2\n",
    "L2 = ['baa', 'aa', 'bb']"
   ]
  },
  {
   "cell_type": "markdown",
   "id": "dbfe6f37-0f92-4478-9eb7-f1ca8fd0288a",
   "metadata": {},
   "source": [
    "The lists above have different values, but the same characters. A solution would be using a sequence of indices S."
   ]
  },
  {
   "cell_type": "code",
   "execution_count": 3,
   "id": "b54d908b-5cd9-4d90-9165-44f8bca1ad50",
   "metadata": {},
   "outputs": [],
   "source": [
    "# Using sequence for the lists\n",
    "S = [2, 1, 2, 0]"
   ]
  },
  {
   "cell_type": "code",
   "execution_count": 4,
   "id": "bac8f6e0-ad63-4799-b6cb-0b7a00941e3a",
   "metadata": {},
   "outputs": [],
   "source": [
    "# solution to each list, joining in concatation and looping through the lists\n",
    "def apply(S, L):\n",
    "    S_on_L = [''.join(L[i]) for i in S]\n",
    "    return ''.join(S_on_L)"
   ]
  },
  {
   "cell_type": "code",
   "execution_count": 5,
   "id": "987e484b-420d-4b8c-8eca-19cb66ec3f56",
   "metadata": {},
   "outputs": [
    {
     "data": {
      "text/plain": [
       "'bbaabbbaa'"
      ]
     },
     "execution_count": 5,
     "metadata": {},
     "output_type": "execute_result"
    }
   ],
   "source": [
    "# use the above method  and apply S to L1\n",
    "apply(S, L1)"
   ]
  },
  {
   "cell_type": "code",
   "execution_count": 6,
   "id": "94f210a3-f734-4a90-b8c4-6bd4afcb3928",
   "metadata": {},
   "outputs": [
    {
     "data": {
      "text/plain": [
       "'bbaabbbaa'"
      ]
     },
     "execution_count": 6,
     "metadata": {},
     "output_type": "execute_result"
    }
   ],
   "source": [
    "# do the same for the second list\n",
    "apply(S, L2)"
   ]
  },
  {
   "cell_type": "code",
   "execution_count": 7,
   "id": "18dbdce2-ee89-4fe8-8e40-66a4580c538a",
   "metadata": {},
   "outputs": [
    {
     "data": {
      "text/plain": [
       "True"
      ]
     },
     "execution_count": 7,
     "metadata": {},
     "output_type": "execute_result"
    }
   ],
   "source": [
    "#applying S to L1, and L2 achieve the same output, this can be verified\n",
    "apply(S, L1) == apply(S, L2)"
   ]
  },
  {
   "cell_type": "code",
   "execution_count": null,
   "id": "84998ff0-e607-41e6-b7d7-4275b0344e9b",
   "metadata": {},
   "outputs": [],
   "source": []
  }
 ],
 "metadata": {
  "kernelspec": {
   "display_name": "Python 3",
   "language": "python",
   "name": "python3"
  },
  "language_info": {
   "codemirror_mode": {
    "name": "ipython",
    "version": 3
   },
   "file_extension": ".py",
   "mimetype": "text/x-python",
   "name": "python",
   "nbconvert_exporter": "python",
   "pygments_lexer": "ipython3",
   "version": "3.8.8"
  }
 },
 "nbformat": 4,
 "nbformat_minor": 5
}

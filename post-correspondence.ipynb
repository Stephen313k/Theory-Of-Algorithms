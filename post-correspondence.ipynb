{
 "cells": [
  {
   "cell_type": "markdown",
   "id": "522132a8-7136-425d-a75d-918d203f2521",
   "metadata": {},
   "source": [
    " # The Post Correspondence Problem "
   ]
  },
  {
   "cell_type": "markdown",
   "id": "1e789058-2611-41f4-bc73-f1eb9e99b3d8",
   "metadata": {},
   "source": [
    "The post correspondence problem is a popular undecideable decision problem that was introduced by Emil Leon Post (1946)."
   ]
  },
  {
   "cell_type": "markdown",
   "id": "3fc3a253-d259-4d13-8365-01027b17a655",
   "metadata": {},
   "source": [
    "### The Issue"
   ]
  },
  {
   "cell_type": "markdown",
   "id": "1289a774-1b4d-49de-8402-c0be13e6afd4",
   "metadata": {},
   "source": [
    "In this problem there are two lists, each item may be represented as N. The goal is to find out concatentation of the result in a sequenece that outputs the same result for both lists."
   ]
  },
  {
   "cell_type": "code",
   "execution_count": 185,
   "id": "096d2495-acd2-4585-b2ad-1d84c483f16f",
   "metadata": {},
   "outputs": [],
   "source": [
    "# list 1\n",
    "L1 = ['a', 'ab', 'bba']\n",
    "# list 2\n",
    "L2 = ['baa', 'aa', 'bb']"
   ]
  },
  {
   "cell_type": "markdown",
   "id": "dbfe6f37-0f92-4478-9eb7-f1ca8fd0288a",
   "metadata": {},
   "source": [
    "The lists above have different values, but the same characters. A solution would be using a sequence of indices <strong>S</strong>."
   ]
  },
  {
   "cell_type": "code",
   "execution_count": 186,
   "id": "b54d908b-5cd9-4d90-9165-44f8bca1ad50",
   "metadata": {},
   "outputs": [],
   "source": [
    "# Using sequence for the lists\n",
    "S = [2, 1, 2, 0]"
   ]
  },
  {
   "cell_type": "code",
   "execution_count": 187,
   "id": "bac8f6e0-ad63-4799-b6cb-0b7a00941e3a",
   "metadata": {},
   "outputs": [],
   "source": [
    "# solution to each list, joining in concatation and looping through the lists\n",
    "def apply(S, L):\n",
    "    S_on_L = [''.join(L[i]) for i in S]\n",
    "    return ''.join(S_on_L)"
   ]
  },
  {
   "cell_type": "code",
   "execution_count": 188,
   "id": "987e484b-420d-4b8c-8eca-19cb66ec3f56",
   "metadata": {},
   "outputs": [
    {
     "data": {
      "text/plain": [
       "'bbaabbbaa'"
      ]
     },
     "execution_count": 188,
     "metadata": {},
     "output_type": "execute_result"
    }
   ],
   "source": [
    "# use the above method  and apply S to L1\n",
    "apply(S, L1)"
   ]
  },
  {
   "cell_type": "code",
   "execution_count": 189,
   "id": "94f210a3-f734-4a90-b8c4-6bd4afcb3928",
   "metadata": {},
   "outputs": [
    {
     "data": {
      "text/plain": [
       "'bbaabbbaa'"
      ]
     },
     "execution_count": 189,
     "metadata": {},
     "output_type": "execute_result"
    }
   ],
   "source": [
    "# do the same for the second list\n",
    "apply(S, L2)"
   ]
  },
  {
   "cell_type": "code",
   "execution_count": 190,
   "id": "18dbdce2-ee89-4fe8-8e40-66a4580c538a",
   "metadata": {},
   "outputs": [
    {
     "data": {
      "text/plain": [
       "True"
      ]
     },
     "execution_count": 190,
     "metadata": {},
     "output_type": "execute_result"
    }
   ],
   "source": [
    "#applying S to L1, and L2 achieve the same output, this can be verified\n",
    "apply(S, L1) == apply(S, L2)"
   ]
  },
  {
   "cell_type": "markdown",
   "id": "343fd84a-7c1c-470f-83d6-dc76b6582711",
   "metadata": {},
   "source": [
    "<i>As seen above both lists correspond with another</i>"
   ]
  },
  {
   "cell_type": "markdown",
   "id": "dc5f60cd-2fbd-4f8b-804f-3c5adf37a3ad",
   "metadata": {},
   "source": [
    "##### An example of no correspondece"
   ]
  },
  {
   "cell_type": "code",
   "execution_count": 191,
   "id": "3731f27b-7837-4acd-b8b6-6883cda97f1e",
   "metadata": {},
   "outputs": [],
   "source": [
    "# first list\n",
    "L1a = ['ab', 'bba']"
   ]
  },
  {
   "cell_type": "code",
   "execution_count": 192,
   "id": "e35c0530-82dd-4021-902e-2f8dcd5f1134",
   "metadata": {},
   "outputs": [],
   "source": [
    "# second list\n",
    "L2a = ['aa', 'bb']"
   ]
  },
  {
   "cell_type": "markdown",
   "id": "8b5f0a73-8029-4638-96d3-d37d98300d27",
   "metadata": {},
   "source": [
    "<strong>S</strong> is undefined"
   ]
  },
  {
   "cell_type": "markdown",
   "id": "c3a90c8b-edb3-4bfe-b467-613dba7390cc",
   "metadata": {},
   "source": [
    "In this example <strong>S</strong> is an infinite length. There are an infite amount of possibilities that can be arranged for the solution, however without <strong>S</strong> being applied to the lists as the first example then there is no proof that the lists correspond with another."
   ]
  },
  {
   "cell_type": "markdown",
   "id": "1a12cfdb-b414-4884-9e14-c46c9239d67c",
   "metadata": {},
   "source": [
    "#### Bounded PCP\n"
   ]
  },
  {
   "cell_type": "code",
   "execution_count": 193,
   "id": "9bf6ad42-7acc-4e94-96e5-7e5dc34615fa",
   "metadata": {},
   "outputs": [],
   "source": [
    "import itertools as it"
   ]
  },
  {
   "cell_type": "code",
   "execution_count": 194,
   "id": "92a8ad63-2ef8-4b6c-9516-f9e512e9e6f1",
   "metadata": {},
   "outputs": [],
   "source": [
    "# The bound for the bounded problem.\n",
    "K = 4\n",
    "# The generators.\n",
    "gens = []"
   ]
  },
  {
   "cell_type": "code",
   "execution_count": 195,
   "id": "a69dbd4f-612c-4e82-8e8d-903b334af857",
   "metadata": {},
   "outputs": [
    {
     "name": "stdout",
     "output_type": "stream",
     "text": [
      "(0,)\n",
      "(1,)\n",
      "(0, 0)\n",
      "(0, 1)\n",
      "(1, 0)\n",
      "(1, 1)\n",
      "(0, 0, 0)\n",
      "(0, 0, 1)\n",
      "(0, 1, 0)\n",
      "(0, 1, 1)\n",
      "(1, 0, 0)\n",
      "(1, 0, 1)\n",
      "(1, 1, 0)\n",
      "(1, 1, 1)\n",
      "(0, 0, 0, 0)\n",
      "(0, 0, 0, 1)\n",
      "(0, 0, 1, 0)\n",
      "(0, 0, 1, 1)\n",
      "(0, 1, 0, 0)\n",
      "(0, 1, 0, 1)\n",
      "(0, 1, 1, 0)\n",
      "(0, 1, 1, 1)\n",
      "(1, 0, 0, 0)\n",
      "(1, 0, 0, 1)\n",
      "(1, 0, 1, 0)\n",
      "(1, 0, 1, 1)\n",
      "(1, 1, 0, 0)\n",
      "(1, 1, 0, 1)\n",
      "(1, 1, 1, 0)\n",
      "(1, 1, 1, 1)\n"
     ]
    }
   ],
   "source": [
    "# Loop through all possible solutions.\n",
    "for i in range(1, K+1):\n",
    "    # Create a generator for solutions of length i, append it to gens.\n",
    "    gens.append(it.product(*([range(len(L2a))] * i)))\n",
    "\n",
    "# it.chain just chains generators together.\n",
    "for solution in it.chain(*gens):\n",
    "  print(solution)\n"
   ]
  },
  {
   "cell_type": "code",
   "execution_count": 196,
   "id": "714d3f67-1408-474f-b690-8aa492a39065",
   "metadata": {},
   "outputs": [],
   "source": [
    "# Carestian product of a list\n",
    "def cartesian_product(l, k):\n",
    "    List = []\n",
    "    for i in range(1, k + 1):\n",
    "        for product in it.product(l, repeat = i):\n",
    "            List.append(''.join(product))\n",
    "    return List"
   ]
  },
  {
   "cell_type": "code",
   "execution_count": 197,
   "id": "b3264605-54dc-46a3-9bc8-1a0120ff48c8",
   "metadata": {},
   "outputs": [
    {
     "name": "stdout",
     "output_type": "stream",
     "text": [
      "['a', 'ab', 'bba', 'aa', 'aab', 'abba', 'aba', 'abab', 'abbba', 'bbaa', 'bbaab', 'bbabba', 'aaa', 'aaab', 'aabba', 'aaba', 'aabab', 'aabbba', 'abbaa', 'abbaab', 'abbabba', 'abaa', 'abaab', 'ababba', 'ababa', 'ababab', 'ababbba', 'abbbaa', 'abbbaab', 'abbbabba', 'bbaaa', 'bbaaab', 'bbaabba', 'bbaaba', 'bbaabab', 'bbaabbba', 'bbabbaa', 'bbabbaab', 'bbabbabba', 'aaaa', 'aaaab', 'aaabba', 'aaaba', 'aaabab', 'aaabbba', 'aabbaa', 'aabbaab', 'aabbabba', 'aabaa', 'aabaab', 'aababba', 'aababa', 'aababab', 'aababbba', 'aabbbaa', 'aabbbaab', 'aabbbabba', 'abbaaa', 'abbaaab', 'abbaabba', 'abbaaba', 'abbaabab', 'abbaabbba', 'abbabbaa', 'abbabbaab', 'abbabbabba', 'abaaa', 'abaaab', 'abaabba', 'abaaba', 'abaabab', 'abaabbba', 'ababbaa', 'ababbaab', 'ababbabba', 'ababaa', 'ababaab', 'abababba', 'abababa', 'abababab', 'abababbba', 'ababbbaa', 'ababbbaab', 'ababbbabba', 'abbbaaa', 'abbbaaab', 'abbbaabba', 'abbbaaba', 'abbbaabab', 'abbbaabbba', 'abbbabbaa', 'abbbabbaab', 'abbbabbabba', 'bbaaaa', 'bbaaaab', 'bbaaabba', 'bbaaaba', 'bbaaabab', 'bbaaabbba', 'bbaabbaa', 'bbaabbaab', 'bbaabbabba', 'bbaabaa', 'bbaabaab', 'bbaababba', 'bbaababa', 'bbaababab', 'bbaababbba', 'bbaabbbaa', 'bbaabbbaab', 'bbaabbbabba', 'bbabbaaa', 'bbabbaaab', 'bbabbaabba', 'bbabbaaba', 'bbabbaabab', 'bbabbaabbba', 'bbabbabbaa', 'bbabbabbaab', 'bbabbabbabba']\n"
     ]
    }
   ],
   "source": [
    "print(cartesian_product(L1, 4))"
   ]
  },
  {
   "cell_type": "code",
   "execution_count": 198,
   "id": "8b8f45b4-de5b-4c33-9ecc-4f7a57c0b9ed",
   "metadata": {},
   "outputs": [
    {
     "name": "stdout",
     "output_type": "stream",
     "text": [
      "['baa', 'aa', 'bb', 'baabaa', 'baaaa', 'baabb', 'aabaa', 'aaaa', 'aabb', 'bbbaa', 'bbaa', 'bbbb', 'baabaabaa', 'baabaaaa', 'baabaabb', 'baaaabaa', 'baaaaaa', 'baaaabb', 'baabbbaa', 'baabbaa', 'baabbbb', 'aabaabaa', 'aabaaaa', 'aabaabb', 'aaaabaa', 'aaaaaa', 'aaaabb', 'aabbbaa', 'aabbaa', 'aabbbb', 'bbbaabaa', 'bbbaaaa', 'bbbaabb', 'bbaabaa', 'bbaaaa', 'bbaabb', 'bbbbbaa', 'bbbbaa', 'bbbbbb', 'baabaabaabaa', 'baabaabaaaa', 'baabaabaabb', 'baabaaaabaa', 'baabaaaaaa', 'baabaaaabb', 'baabaabbbaa', 'baabaabbaa', 'baabaabbbb', 'baaaabaabaa', 'baaaabaaaa', 'baaaabaabb', 'baaaaaabaa', 'baaaaaaaa', 'baaaaaabb', 'baaaabbbaa', 'baaaabbaa', 'baaaabbbb', 'baabbbaabaa', 'baabbbaaaa', 'baabbbaabb', 'baabbaabaa', 'baabbaaaa', 'baabbaabb', 'baabbbbbaa', 'baabbbbaa', 'baabbbbbb', 'aabaabaabaa', 'aabaabaaaa', 'aabaabaabb', 'aabaaaabaa', 'aabaaaaaa', 'aabaaaabb', 'aabaabbbaa', 'aabaabbaa', 'aabaabbbb', 'aaaabaabaa', 'aaaabaaaa', 'aaaabaabb', 'aaaaaabaa', 'aaaaaaaa', 'aaaaaabb', 'aaaabbbaa', 'aaaabbaa', 'aaaabbbb', 'aabbbaabaa', 'aabbbaaaa', 'aabbbaabb', 'aabbaabaa', 'aabbaaaa', 'aabbaabb', 'aabbbbbaa', 'aabbbbaa', 'aabbbbbb', 'bbbaabaabaa', 'bbbaabaaaa', 'bbbaabaabb', 'bbbaaaabaa', 'bbbaaaaaa', 'bbbaaaabb', 'bbbaabbbaa', 'bbbaabbaa', 'bbbaabbbb', 'bbaabaabaa', 'bbaabaaaa', 'bbaabaabb', 'bbaaaabaa', 'bbaaaaaa', 'bbaaaabb', 'bbaabbbaa', 'bbaabbaa', 'bbaabbbb', 'bbbbbaabaa', 'bbbbbaaaa', 'bbbbbaabb', 'bbbbaabaa', 'bbbbaaaa', 'bbbbaabb', 'bbbbbbbaa', 'bbbbbbaa', 'bbbbbbbb']\n"
     ]
    }
   ],
   "source": [
    "print(cartesian_product(L2, 4))"
   ]
  },
  {
   "cell_type": "code",
   "execution_count": 199,
   "id": "8777e8b8-297e-4066-a830-5ccf9a081636",
   "metadata": {},
   "outputs": [],
   "source": [
    "def correspond(l1, l2, k):\n",
    "    if len(l1) != len(l2):\n",
    "        return False\n",
    "    # checking lists in parrell using iterate\n",
    "    for l1, l2 in iterate(cartesian_product(l1, k), cartesian_product(l2, k)):\n",
    "            if l1 == l2:\n",
    "                print(\"Solution S is {}\".format(l1))\n",
    "                return True\n",
    "    print(\"Solution S was not found for k size : {}\".format(k))\n",
    "    return False"
   ]
  },
  {
   "cell_type": "code",
   "execution_count": 209,
   "id": "a114ae3b-b875-400a-9a5d-8d893fdee424",
   "metadata": {},
   "outputs": [],
   "source": [
    "# Solver for the bounded post correspondence problem \n",
    "def bpcp_solver(l1, l2, k):\n",
    "    if correspond(l1, l2, k):\n",
    "        return True\n",
    "    else:\n",
    "        return False"
   ]
  },
  {
   "cell_type": "code",
   "execution_count": null,
   "id": "d876e0b7-9da3-49f9-8956-8b17a9a1782b",
   "metadata": {},
   "outputs": [],
   "source": []
  },
  {
   "cell_type": "code",
   "execution_count": null,
   "id": "a51d6a83-57bc-4fd9-bf49-b4c374793d62",
   "metadata": {},
   "outputs": [],
   "source": []
  },
  {
   "cell_type": "code",
   "execution_count": null,
   "id": "8411fd73-93f3-4759-8a72-3fb61c27648c",
   "metadata": {},
   "outputs": [],
   "source": []
  },
  {
   "cell_type": "code",
   "execution_count": null,
   "id": "1aa4bea2-8556-494e-9f83-2c0973190c35",
   "metadata": {},
   "outputs": [],
   "source": [
    "\n"
   ]
  },
  {
   "cell_type": "code",
   "execution_count": null,
   "id": "66eb85ff-d594-4eab-99dc-589ba08e1096",
   "metadata": {},
   "outputs": [],
   "source": []
  },
  {
   "cell_type": "code",
   "execution_count": null,
   "id": "c9642ac3-b114-4003-84a3-7f7015ca1f5d",
   "metadata": {},
   "outputs": [],
   "source": [
    "\n"
   ]
  },
  {
   "cell_type": "code",
   "execution_count": null,
   "id": "7a4164a2-502c-4c5f-b955-96cc53f9f630",
   "metadata": {},
   "outputs": [],
   "source": [
    "\n"
   ]
  },
  {
   "cell_type": "code",
   "execution_count": null,
   "id": "396eae85-cd8c-4898-aa0e-f1b1bcf9bc11",
   "metadata": {},
   "outputs": [],
   "source": []
  },
  {
   "cell_type": "code",
   "execution_count": null,
   "id": "6de85555-4a8c-4fad-a308-e80e1499a95e",
   "metadata": {},
   "outputs": [],
   "source": []
  },
  {
   "cell_type": "code",
   "execution_count": null,
   "id": "f12b6269-efc6-4156-86be-7c8d64e673ef",
   "metadata": {},
   "outputs": [],
   "source": []
  },
  {
   "cell_type": "code",
   "execution_count": null,
   "id": "d0c0569a-2d8e-4eaf-bf22-0739ef5a9ad4",
   "metadata": {},
   "outputs": [],
   "source": []
  },
  {
   "cell_type": "code",
   "execution_count": null,
   "id": "f442f2ed-b13b-49dd-9042-a0532ca23958",
   "metadata": {},
   "outputs": [],
   "source": []
  },
  {
   "cell_type": "code",
   "execution_count": null,
   "id": "ed88551f-9a09-41ca-b8aa-0daedc005f27",
   "metadata": {},
   "outputs": [],
   "source": []
  },
  {
   "cell_type": "code",
   "execution_count": null,
   "id": "00a88952-a899-4e9c-a013-e4f20f4b2083",
   "metadata": {},
   "outputs": [],
   "source": []
  },
  {
   "cell_type": "code",
   "execution_count": null,
   "id": "17112e68-a27a-4436-872d-e967232569bc",
   "metadata": {},
   "outputs": [],
   "source": []
  }
 ],
 "metadata": {
  "kernelspec": {
   "display_name": "Python 3",
   "language": "python",
   "name": "python3"
  },
  "language_info": {
   "codemirror_mode": {
    "name": "ipython",
    "version": 3
   },
   "file_extension": ".py",
   "mimetype": "text/x-python",
   "name": "python",
   "nbconvert_exporter": "python",
   "pygments_lexer": "ipython3",
   "version": "3.8.8"
  }
 },
 "nbformat": 4,
 "nbformat_minor": 5
}
